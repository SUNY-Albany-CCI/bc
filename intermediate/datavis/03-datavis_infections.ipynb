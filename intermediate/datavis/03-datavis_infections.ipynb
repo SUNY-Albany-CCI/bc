{
 "metadata": {
  "name": "",
  "signature": "sha256:2d8b2f98367f50580bb96b2d0b6d12e41b4a8b38a3fc99afdc091dacaadce0fb"
 },
 "nbformat": 3,
 "nbformat_minor": 0,
 "worksheets": [
  {
   "cells": [
    {
     "cell_type": "heading",
     "level": 1,
     "metadata": {},
     "source": [
      "Introduction  "
     ]
    },
    {
     "cell_type": "markdown",
     "metadata": {},
     "source": [
      "This example shows how to show a composition for data that is changing over time when there are only a small number of time periods. \n",
      "The example uses yearly data on hospital acquired infections.  Data from two hospitals is compared over 3 years. "
     ]
    },
    {
     "cell_type": "code",
     "collapsed": false,
     "input": [
      "%matplotlib inline\n",
      "from matplotlib import pylab as plt\n",
      "import numpy as np\n",
      "import pandas as pd  \n"
     ],
     "language": "python",
     "metadata": {},
     "outputs": [],
     "prompt_number": 72
    },
    {
     "cell_type": "markdown",
     "metadata": {},
     "source": [
      "First we read the data using Pandas."
     ]
    },
    {
     "cell_type": "code",
     "collapsed": false,
     "input": [
      "df = pd.read_csv(\"Hospital-Acquired_Infections__Beginning_2008.csv\")"
     ],
     "language": "python",
     "metadata": {},
     "outputs": [],
     "prompt_number": 73
    },
    {
     "cell_type": "markdown",
     "metadata": {},
     "source": [
      "Take a look at the columns to get a feel for the information in the dataset. "
     ]
    },
    {
     "cell_type": "code",
     "collapsed": false,
     "input": [
      "df.columns"
     ],
     "language": "python",
     "metadata": {},
     "outputs": [
      {
       "metadata": {},
       "output_type": "pyout",
       "prompt_number": 74,
       "text": [
        "Index([u'Facility Id', u'Hospital Name', u'Indicator Name', u'Year', u'Infections observed', u'Infections predicted', u'Denominator', u'Indicator value', u'Indicator Lower confidence limit', u'Indicator Upper confidence limit', u'Indicator units', u'Comparison results', u'Location 1'], dtype='object')"
       ]
      }
     ],
     "prompt_number": 74
    },
    {
     "cell_type": "markdown",
     "metadata": {},
     "source": [
      "It is also useful to look at the head (first 5 rows) of the data in order to inspect how the data is organized."
     ]
    },
    {
     "cell_type": "code",
     "collapsed": false,
     "input": [
      "df.head()"
     ],
     "language": "python",
     "metadata": {},
     "outputs": [
      {
       "html": [
        "<div style=\"max-height:1000px;max-width:1500px;overflow:auto;\">\n",
        "<table border=\"1\" class=\"dataframe\">\n",
        "  <thead>\n",
        "    <tr style=\"text-align: right;\">\n",
        "      <th></th>\n",
        "      <th>Facility Id</th>\n",
        "      <th>Hospital Name</th>\n",
        "      <th>Indicator Name</th>\n",
        "      <th>Year</th>\n",
        "      <th>Infections observed</th>\n",
        "      <th>Infections predicted</th>\n",
        "      <th>Denominator</th>\n",
        "      <th>Indicator value</th>\n",
        "      <th>Indicator Lower confidence limit</th>\n",
        "      <th>Indicator Upper confidence limit</th>\n",
        "      <th>Indicator units</th>\n",
        "      <th>Comparison results</th>\n",
        "      <th>Location 1</th>\n",
        "    </tr>\n",
        "  </thead>\n",
        "  <tbody>\n",
        "    <tr>\n",
        "      <th>0</th>\n",
        "      <td> 0</td>\n",
        "      <td> New York State - All Hospitals</td>\n",
        "      <td> SSI Overall Standardized Infection Ratio</td>\n",
        "      <td> 2012</td>\n",
        "      <td> 1618</td>\n",
        "      <td>NaN</td>\n",
        "      <td>      NaN</td>\n",
        "      <td> 1.00</td>\n",
        "      <td>NaN</td>\n",
        "      <td>NaN</td>\n",
        "      <td>                                               NaN</td>\n",
        "      <td> NaN</td>\n",
        "      <td> NaN</td>\n",
        "    </tr>\n",
        "    <tr>\n",
        "      <th>1</th>\n",
        "      <td> 0</td>\n",
        "      <td> New York State - All Hospitals</td>\n",
        "      <td>                       CDI Hospital Onset</td>\n",
        "      <td> 2012</td>\n",
        "      <td> 9904</td>\n",
        "      <td>NaN</td>\n",
        "      <td> 11948043</td>\n",
        "      <td> 8.29</td>\n",
        "      <td>NaN</td>\n",
        "      <td>NaN</td>\n",
        "      <td> # hospital onset cases per 10,000 patient days...</td>\n",
        "      <td> NaN</td>\n",
        "      <td> NaN</td>\n",
        "    </tr>\n",
        "    <tr>\n",
        "      <th>2</th>\n",
        "      <td> 0</td>\n",
        "      <td> New York State - All Hospitals</td>\n",
        "      <td>                CLABSI Cardiothoracic ICU</td>\n",
        "      <td> 2012</td>\n",
        "      <td>   67</td>\n",
        "      <td>NaN</td>\n",
        "      <td>    75757</td>\n",
        "      <td> 0.88</td>\n",
        "      <td>NaN</td>\n",
        "      <td>NaN</td>\n",
        "      <td>                       # CLABSI per 1000 line days</td>\n",
        "      <td> NaN</td>\n",
        "      <td> NaN</td>\n",
        "    </tr>\n",
        "    <tr>\n",
        "      <th>3</th>\n",
        "      <td> 0</td>\n",
        "      <td> New York State - All Hospitals</td>\n",
        "      <td>                      CLABSI Coronary ICU</td>\n",
        "      <td> 2012</td>\n",
        "      <td>   60</td>\n",
        "      <td>NaN</td>\n",
        "      <td>    48540</td>\n",
        "      <td> 1.24</td>\n",
        "      <td>NaN</td>\n",
        "      <td>NaN</td>\n",
        "      <td>                       # CLABSI per 1000 line days</td>\n",
        "      <td> NaN</td>\n",
        "      <td> NaN</td>\n",
        "    </tr>\n",
        "    <tr>\n",
        "      <th>4</th>\n",
        "      <td> 0</td>\n",
        "      <td> New York State - All Hospitals</td>\n",
        "      <td>                       CLABSI Medical ICU</td>\n",
        "      <td> 2012</td>\n",
        "      <td>  130</td>\n",
        "      <td>NaN</td>\n",
        "      <td>   107618</td>\n",
        "      <td> 1.21</td>\n",
        "      <td>NaN</td>\n",
        "      <td>NaN</td>\n",
        "      <td>                       # CLABSI per 1000 line days</td>\n",
        "      <td> NaN</td>\n",
        "      <td> NaN</td>\n",
        "    </tr>\n",
        "  </tbody>\n",
        "</table>\n",
        "</div>"
       ],
       "metadata": {},
       "output_type": "pyout",
       "prompt_number": 75,
       "text": [
        "   Facility Id                   Hospital Name  \\\n",
        "0            0  New York State - All Hospitals   \n",
        "1            0  New York State - All Hospitals   \n",
        "2            0  New York State - All Hospitals   \n",
        "3            0  New York State - All Hospitals   \n",
        "4            0  New York State - All Hospitals   \n",
        "\n",
        "                             Indicator Name  Year  Infections observed  \\\n",
        "0  SSI Overall Standardized Infection Ratio  2012                 1618   \n",
        "1                        CDI Hospital Onset  2012                 9904   \n",
        "2                 CLABSI Cardiothoracic ICU  2012                   67   \n",
        "3                       CLABSI Coronary ICU  2012                   60   \n",
        "4                        CLABSI Medical ICU  2012                  130   \n",
        "\n",
        "   Infections predicted  Denominator  Indicator value  \\\n",
        "0                   NaN          NaN             1.00   \n",
        "1                   NaN     11948043             8.29   \n",
        "2                   NaN        75757             0.88   \n",
        "3                   NaN        48540             1.24   \n",
        "4                   NaN       107618             1.21   \n",
        "\n",
        "   Indicator Lower confidence limit  Indicator Upper confidence limit  \\\n",
        "0                               NaN                               NaN   \n",
        "1                               NaN                               NaN   \n",
        "2                               NaN                               NaN   \n",
        "3                               NaN                               NaN   \n",
        "4                               NaN                               NaN   \n",
        "\n",
        "                                     Indicator units Comparison results  \\\n",
        "0                                                NaN                NaN   \n",
        "1  # hospital onset cases per 10,000 patient days...                NaN   \n",
        "2                        # CLABSI per 1000 line days                NaN   \n",
        "3                        # CLABSI per 1000 line days                NaN   \n",
        "4                        # CLABSI per 1000 line days                NaN   \n",
        "\n",
        "  Location 1  \n",
        "0        NaN  \n",
        "1        NaN  \n",
        "2        NaN  \n",
        "3        NaN  \n",
        "4        NaN  "
       ]
      }
     ],
     "prompt_number": 75
    },
    {
     "cell_type": "markdown",
     "metadata": {},
     "source": [
      "We have a column called 'Hospital Name'.  It is useful to look at the unique values of this column in order to determine how many and which hospitals the data contains. "
     ]
    },
    {
     "cell_type": "code",
     "collapsed": false,
     "input": [
      "hospitalNames=pd.Series(df['Hospital Name'].unique())\n",
      "print hospitalNames"
     ],
     "language": "python",
     "metadata": {},
     "outputs": [
      {
       "output_type": "stream",
       "stream": "stdout",
       "text": [
        "0                        New York State - All Hospitals\n",
        "1                        Albany Medical Center Hospital\n",
        "2                              Albany Memorial Hospital\n",
        "3                                    St Peters Hospital\n",
        "4     Memorial Hosp of Wm F & Gertrude F Jones A/K/A...\n",
        "5             Our Lady of Lourdes Memorial Hospital Inc\n",
        "6     United Health Services Hospitals Inc. - Wilson...\n",
        "7                                Olean General Hospital\n",
        "8                             Auburn Community Hospital\n",
        "9                              Brooks Memorial Hospital\n",
        "10                        Woman's Christian Association\n",
        "11               TLC Health Network Lake Shore Hospital\n",
        "12                           Arnot Ogden Medical Center\n",
        "13                                  St Josephs Hospital\n",
        "14                       Chenango Memorial Hospital Inc\n",
        "...\n",
        "167               Peninsula Hospital Center- Closed 2012\n",
        "168                               Queens Hospital Center\n",
        "169               St. Johns Queens Hospital- Closed 2009\n",
        "170                 St Johns Episcopal Hospital So Shore\n",
        "171         New York Hospital Medical Center   of Queens\n",
        "172                                Forest Hills Hospital\n",
        "173    Mount Sinai Hospital - Mount Sinai Hospital of...\n",
        "174              Woodhull Medical & Mental Health Center\n",
        "175                   Richmond University Medical Center\n",
        "176                  Staten Island University Hosp-North\n",
        "177                  North General Hospital- Closed 2010\n",
        "178          SVCMC Mary Immaculate Hospital- Closed 2009\n",
        "179    Montefiore Med Center - Jack D Weiler Hosp of ...\n",
        "180                   Millard Fillmore Suburban Hospital\n",
        "181      New York Presbyterian Hospital - Allen Hospital\n",
        "Length: 182, dtype: object\n"
       ]
      }
     ],
     "prompt_number": 55
    },
    {
     "cell_type": "markdown",
     "metadata": {},
     "source": [
      "In this step we assign two hospitals from the list to the variables 'hospital1' and 'hospital2'.   It is good practice to use variables for the hospital names.  If we want to graph data from different hospitals later, we only have to change the below block. "
     ]
    },
    {
     "cell_type": "code",
     "collapsed": false,
     "input": [
      "hospital1=hospitalNames[10]\n",
      "hospital2=hospitalNames[20]\n",
      "\n",
      "print hospital1+\" : \"+hospital2"
     ],
     "language": "python",
     "metadata": {},
     "outputs": [
      {
       "output_type": "stream",
       "stream": "stdout",
       "text": [
        "Woman's Christian Association : Northern Dutchess Hospital\n"
       ]
      }
     ],
     "prompt_number": 56
    },
    {
     "cell_type": "markdown",
     "metadata": {},
     "source": [
      "We extract the data for hospital1 and hospital2 and check to verify the type of the subdata.  It should still be a dataframe."
     ]
    },
    {
     "cell_type": "code",
     "collapsed": false,
     "input": [
      "hospitalData1=df[(df['Hospital Name']==hospital1)]\n",
      "hospitalData2=df[(df['Hospital Name']==hospital2)]\n",
      "\n",
      "type(hospitalData1)"
     ],
     "language": "python",
     "metadata": {},
     "outputs": [
      {
       "metadata": {},
       "output_type": "pyout",
       "prompt_number": 58,
       "text": [
        "pandas.core.frame.DataFrame"
       ]
      }
     ],
     "prompt_number": 58
    },
    {
     "cell_type": "markdown",
     "metadata": {},
     "source": [
      "Now we take a look at the data again.  Data can be messy.  There is no guarantee the data from different hospitals will be consistent.  So we need to check what the dataframe contains.  Specifically we want to know what years data was collected, and what Indicators were observed.  As before it is handy to use the unique() function to take a look at the unique values of a column. "
     ]
    },
    {
     "cell_type": "code",
     "collapsed": false,
     "input": [
      "print hospitalData1['Year'].unique()\n",
      "print hospitalData2['Year'].unique()\n",
      "print\n",
      "print hospitalData2['Indicator Name'].unique()\n",
      "print\n",
      "print hospitalData2['Indicator Name'].unique()"
     ],
     "language": "python",
     "metadata": {},
     "outputs": [
      {
       "output_type": "stream",
       "stream": "stdout",
       "text": [
        "[2012 2011 2010 2009 2008]\n",
        "[2012 2011 2010 2009 2008]\n",
        "\n",
        "[SSI Overall Standardized Infection Ratio SSI Hysterectomy SSI Hip\n",
        " SSI Colon CLABSI Overall Standardized Infection Ratio\n",
        " CLABSI Medical Surgical ICU Nonteaching CDI Hospital Onset\n",
        " CDI Hospital Associated CDI Community Onset]\n",
        "\n",
        "[SSI Overall Standardized Infection Ratio SSI Hysterectomy SSI Hip\n",
        " SSI Colon CLABSI Overall Standardized Infection Ratio\n",
        " CLABSI Medical Surgical ICU Nonteaching CDI Hospital Onset\n",
        " CDI Hospital Associated CDI Community Onset]\n"
       ]
      }
     ],
     "prompt_number": 64
    },
    {
     "cell_type": "markdown",
     "metadata": {},
     "source": [
      "In this case we see we have data for years 2008 to 2012 and several infection 'Indicators'.  So let's us the 'CDI Hospital Associated' category as our indicator and extract that subset of data."
     ]
    },
    {
     "cell_type": "code",
     "collapsed": false,
     "input": [
      "indicator='CDI Hospital Associated'\n",
      "\n",
      "infections1=hospitalData1[hospitalData1['Indicator Name']==indicator]\n",
      "infections2=hospitalData2[hospitalData2['Indicator Name']==indicator]"
     ],
     "language": "python",
     "metadata": {},
     "outputs": [],
     "prompt_number": 65
    },
    {
     "cell_type": "markdown",
     "metadata": {},
     "source": [
      "Now we can use a stacked collumn chart to Create a stacked collumn chart based on this example (http://matplotlib.org/examples/pylab_examples/bar_stacked.html)"
     ]
    },
    {
     "cell_type": "code",
     "collapsed": false,
     "input": [
      "p1=plt.bar([1,2,3], infections1['Infections observed'], 1, color='r')\n",
      "p2=plt.bar([1,2,3], infections2['Infections observed'], 1, color='b', bottom=infections1['Infections observed'])\n",
      "\n",
      "plt.ylabel('infections')\n",
      "plt.title(indicator+'infections')\n",
      "plt.xticks([1.5,2.5,3.5],('2010', '2011', '2012') )\n",
      "#plt.yticks(np.arange(0,81,10))\n",
      "plt.legend( (p1[0], p2[0]), (hospital1, hospital2) )\n"
     ],
     "language": "python",
     "metadata": {},
     "outputs": [
      {
       "metadata": {},
       "output_type": "pyout",
       "prompt_number": 68,
       "text": [
        "<matplotlib.legend.Legend at 0x49de8d0>"
       ]
      },
      {
       "metadata": {},
       "output_type": "display_data",
       "png": "[encoded data removed]",
       "text": [
        "<matplotlib.figure.Figure at 0x463c910>"
       ]
      }
     ],
     "prompt_number": 68
    },
    {
     "cell_type": "markdown",
     "metadata": {},
     "source": [
      "To visualize relative changes we can normalize the data and plot a stacked 100% area chart.  The first step is to convert the panda dataframe column to an array so we can perform math operations on it using numpy."
     ]
    },
    {
     "cell_type": "code",
     "collapsed": false,
     "input": [
      "array1=np.array(infections1['Infections observed'].tolist())\n",
      "array2=np.array(infections2['Infections observed'].tolist())"
     ],
     "language": "python",
     "metadata": {},
     "outputs": [],
     "prompt_number": 69
    },
    {
     "cell_type": "markdown",
     "metadata": {},
     "source": [
      "We want the total height of eached stacked column to be 1 (or 100%).  To achieve this we divide each array by the sum of both arrays.  Afterwards we print out the arrays so we can confirm the data is correct. "
     ]
    },
    {
     "cell_type": "code",
     "collapsed": false,
     "input": [
      "array1_normal=array1/(array1+array2)\n",
      "array2_normal=array2/(array1+array2)\n",
      "\n",
      "print array1_normal\n",
      "print array2_normal"
     ],
     "language": "python",
     "metadata": {},
     "outputs": [
      {
       "output_type": "stream",
       "stream": "stdout",
       "text": [
        "[ 0.45833333  0.83018868  0.6       ]\n",
        "[ 0.54166667  0.16981132  0.4       ]\n"
       ]
      }
     ],
     "prompt_number": 70
    },
    {
     "cell_type": "markdown",
     "metadata": {},
     "source": [
      "Now Plot the normalized data in a stacked column chart.  This gives us the stacked 100% column chart which can be used to see relative differences"
     ]
    },
    {
     "cell_type": "code",
     "collapsed": false,
     "input": [
      "p1=plt.bar([1,2,3], array1_normal, 1, color='r')\n",
      "p2=plt.bar([1,2,3], array2_normal, 1, color='b', bottom=array1_normal)\n",
      "\n",
      "plt.ylabel('infections')\n",
      "plt.title('hospital infections')\n",
      "plt.xticks([1.5,2.5,3.5],('2010', '2011', '2012') )\n",
      "#plt.yticks(np.arange(0,81,10))\n",
      "plt.legend( (p1[0], p2[0]), (hospital1, hospital2) )"
     ],
     "language": "python",
     "metadata": {},
     "outputs": [
      {
       "metadata": {},
       "output_type": "pyout",
       "prompt_number": 71,
       "text": [
        "<matplotlib.legend.Legend at 0x4d0fed0>"
       ]
      },
      {
       "metadata": {},
       "output_type": "display_data",
       "png": "[encoded data removed]",
       "text": [
        "<matplotlib.figure.Figure at 0x3fffdd0>"
       ]
      }
     ],
     "prompt_number": 71
    },
    {
     "cell_type": "code",
     "collapsed": false,
     "input": [],
     "language": "python",
     "metadata": {},
     "outputs": [],
     "prompt_number": 71
    },
    {
     "cell_type": "code",
     "collapsed": false,
     "input": [],
     "language": "python",
     "metadata": {},
     "outputs": []
    }
   ],
   "metadata": {}
  }
 ]
}