{
 "metadata": {
  "name": "",
  "signature": "sha256:f64a89cfb0ee154efc5598c9901796bda52292a7f0bef772576e3a90ad41cf28"
 },
 "nbformat": 3,
 "nbformat_minor": 0,
 "worksheets": [
  {
   "cells": [
    {
     "cell_type": "heading",
     "level": 1,
     "metadata": {},
     "source": [
      "Introduction"
     ]
    },
    {
     "cell_type": "heading",
     "level": 2,
     "metadata": {},
     "source": [
      "What we are doing"
     ]
    },
    {
     "cell_type": "markdown",
     "metadata": {},
     "source": [
      "- We have a dataset containing health indicators by county\n",
      "  - In the US, a \"county\" is an administrative unit that comprises multiple towns.\n",
      "- In this case we want to see if there is a relationship between two of these health indicators; such as obesity and cardiac mortality rate.\n",
      "- In order to expose that potential relationship we use a scatter plot, that display one valiable against the other."
     ]
    },
    {
     "cell_type": "heading",
     "level": 2,
     "metadata": {},
     "source": [
      "Setup"
     ]
    },
    {
     "cell_type": "heading",
     "level": 3,
     "metadata": {},
     "source": [
      "Importing Modules"
     ]
    },
    {
     "cell_type": "markdown",
     "metadata": {},
     "source": [
      "We start by importing the modules that will provide the basic functionalites for data manipulation and visualization."
     ]
    },
    {
     "cell_type": "heading",
     "level": 3,
     "metadata": {},
     "source": [
      "Plotting Modules"
     ]
    },
    {
     "cell_type": "markdown",
     "metadata": {},
     "source": [
      "Here we import the modules that support ploting functionalities."
     ]
    },
    {
     "cell_type": "markdown",
     "metadata": {},
     "source": [
      "The following command indicates that we want the plots to be shown \"inline\" (in the web page)"
     ]
    },
    {
     "cell_type": "code",
     "collapsed": false,
     "input": [
      "%matplotlib inline"
     ],
     "language": "python",
     "metadata": {},
     "outputs": [],
     "prompt_number": 1
    },
    {
     "cell_type": "markdown",
     "metadata": {},
     "source": [
      "Then we import \"matplotlib\".\n",
      "- This is a module that provides basic and advanced plotting functionalities.\n",
      "- More specifically, we import its \"pylab\" submodule.\n",
      "- We assign to it the alias \"plt\", to make easier for us to type subsequent commands."
     ]
    },
    {
     "cell_type": "code",
     "collapsed": false,
     "input": [
      "from matplotlib import pylab as plt"
     ],
     "language": "python",
     "metadata": {},
     "outputs": [],
     "prompt_number": 2
    },
    {
     "cell_type": "heading",
     "level": 3,
     "metadata": {},
     "source": [
      "Data Analysis Modules"
     ]
    },
    {
     "cell_type": "markdown",
     "metadata": {},
     "source": [
      "We now import the \"pandas\" module.\n",
      "- It provides easy to use feature for performing data analysis\n",
      "- It is well integrated with the plotting module\n",
      "- It provides support for reading data from many different file formats\n",
      "- We assign to it the alias \"pd\" to make easier for us to type commands later"
     ]
    },
    {
     "cell_type": "code",
     "collapsed": false,
     "input": [
      "import pandas as pd"
     ],
     "language": "python",
     "metadata": {},
     "outputs": [],
     "prompt_number": 3
    },
    {
     "cell_type": "markdown",
     "metadata": {},
     "source": [
      "We use the \"read_csv\" function from the pandas module, to read a csv (\"comma separated\") file."
     ]
    },
    {
     "cell_type": "code",
     "collapsed": false,
     "input": [
      "df = pd.read_csv(\"indicators.csv\")"
     ],
     "language": "python",
     "metadata": {},
     "outputs": [],
     "prompt_number": 4
    },
    {
     "cell_type": "heading",
     "level": 3,
     "metadata": {},
     "source": [
      "Numerical Modules"
     ]
    },
    {
     "cell_type": "markdown",
     "metadata": {},
     "source": [
      "Now we import the \"numpy\" module.\n",
      "- It provides support for numerical computation\n",
      "- In particular processing of vectors and matrices"
     ]
    },
    {
     "cell_type": "code",
     "collapsed": false,
     "input": [
      "import numpy as np"
     ],
     "language": "python",
     "metadata": {},
     "outputs": [],
     "prompt_number": 5
    },
    {
     "cell_type": "heading",
     "level": 2,
     "metadata": {},
     "source": [
      "Data Exploration"
     ]
    },
    {
     "cell_type": "markdown",
     "metadata": {},
     "source": [
      "In this step we are taking a look at the columns of the dataset to see how it is organized"
     ]
    },
    {
     "cell_type": "code",
     "collapsed": false,
     "input": [
      "df.columns"
     ],
     "language": "python",
     "metadata": {},
     "outputs": [
      {
       "metadata": {},
       "output_type": "pyout",
       "prompt_number": 6,
       "text": [
        "Index([u'County Name', u'County Code', u'Region Name', u'Indicator Number', u'Indicator', u'Total Event Counts', u'Denominator', u'Denominator Note', u'Measure Unit', u'Percentage/Rate', u'95% CI', u'Data Comments', u'Data Years', u'Data Sources', u'Quartile', u'Mapping Distribution', u'Location'], dtype='object')"
       ]
      }
     ],
     "prompt_number": 6
    },
    {
     "cell_type": "markdown",
     "metadata": {},
     "source": [
      "- extract a subset of columns to make the data easier to work with"
     ]
    },
    {
     "cell_type": "code",
     "collapsed": false,
     "input": [
      "df=df[['County Name', 'County Code', 'Indicator Number', 'Indicator', 'Percentage/Rate']]"
     ],
     "language": "python",
     "metadata": {},
     "outputs": [],
     "prompt_number": 7
    },
    {
     "cell_type": "markdown",
     "metadata": {},
     "source": [
      "df.head() is a command that prints the first 5 records of the dataset.  It is a useful way to take a look at how the data is organized."
     ]
    },
    {
     "cell_type": "code",
     "collapsed": false,
     "input": [
      "df.head()"
     ],
     "language": "python",
     "metadata": {},
     "outputs": [
      {
       "html": [
        "<div style=\"max-height:1000px;max-width:1500px;overflow:auto;\">\n",
        "<table border=\"1\" class=\"dataframe\">\n",
        "  <thead>\n",
        "    <tr style=\"text-align: right;\">\n",
        "      <th></th>\n",
        "      <th>County Name</th>\n",
        "      <th>County Code</th>\n",
        "      <th>Indicator Number</th>\n",
        "      <th>Indicator</th>\n",
        "      <th>Percentage/Rate</th>\n",
        "    </tr>\n",
        "  </thead>\n",
        "  <tbody>\n",
        "    <tr>\n",
        "      <th>0</th>\n",
        "      <td>    Cayuga</td>\n",
        "      <td>  5</td>\n",
        "      <td> d1</td>\n",
        "      <td> Cardiovascular disease mortality rate per 100,000</td>\n",
        "      <td> 301.3</td>\n",
        "    </tr>\n",
        "    <tr>\n",
        "      <th>1</th>\n",
        "      <td>  Cortland</td>\n",
        "      <td> 11</td>\n",
        "      <td> d1</td>\n",
        "      <td> Cardiovascular disease mortality rate per 100,000</td>\n",
        "      <td> 241.3</td>\n",
        "    </tr>\n",
        "    <tr>\n",
        "      <th>2</th>\n",
        "      <td>  Herkimer</td>\n",
        "      <td> 21</td>\n",
        "      <td> d1</td>\n",
        "      <td> Cardiovascular disease mortality rate per 100,000</td>\n",
        "      <td> 402.8</td>\n",
        "    </tr>\n",
        "    <tr>\n",
        "      <th>3</th>\n",
        "      <td> Jefferson</td>\n",
        "      <td> 22</td>\n",
        "      <td> d1</td>\n",
        "      <td> Cardiovascular disease mortality rate per 100,000</td>\n",
        "      <td> 289.9</td>\n",
        "    </tr>\n",
        "    <tr>\n",
        "      <th>4</th>\n",
        "      <td>     Lewis</td>\n",
        "      <td> 23</td>\n",
        "      <td> d1</td>\n",
        "      <td> Cardiovascular disease mortality rate per 100,000</td>\n",
        "      <td> 296.3</td>\n",
        "    </tr>\n",
        "  </tbody>\n",
        "</table>\n",
        "<p>5 rows \u00d7 5 columns</p>\n",
        "</div>"
       ],
       "metadata": {},
       "output_type": "pyout",
       "prompt_number": 8,
       "text": [
        "  County Name  County Code Indicator Number  \\\n",
        "0      Cayuga            5               d1   \n",
        "1    Cortland           11               d1   \n",
        "2    Herkimer           21               d1   \n",
        "3   Jefferson           22               d1   \n",
        "4       Lewis           23               d1   \n",
        "\n",
        "                                           Indicator  Percentage/Rate  \n",
        "0  Cardiovascular disease mortality rate per 100,000            301.3  \n",
        "1  Cardiovascular disease mortality rate per 100,000            241.3  \n",
        "2  Cardiovascular disease mortality rate per 100,000            402.8  \n",
        "3  Cardiovascular disease mortality rate per 100,000            289.9  \n",
        "4  Cardiovascular disease mortality rate per 100,000            296.3  \n",
        "\n",
        "[5 rows x 5 columns]"
       ]
      }
     ],
     "prompt_number": 8
    },
    {
     "cell_type": "markdown",
     "metadata": {},
     "source": [
      "- extract cardiac mortality from the dataset\n",
      "- todo: explain how to inspect data and find the indicator numbers (somehow get a view of just the indicators and the corresponding numbers)"
     ]
    },
    {
     "cell_type": "code",
     "collapsed": false,
     "input": [
      "df_cardiac_mortality=df[(df['Indicator Number']=='d1')]\n",
      "df_cardiac_mortality.tail()"
     ],
     "language": "python",
     "metadata": {},
     "outputs": [
      {
       "html": [
        "<div style=\"max-height:1000px;max-width:1500px;overflow:auto;\">\n",
        "<table border=\"1\" class=\"dataframe\">\n",
        "  <thead>\n",
        "    <tr style=\"text-align: right;\">\n",
        "      <th></th>\n",
        "      <th>County Name</th>\n",
        "      <th>County Code</th>\n",
        "      <th>Indicator Number</th>\n",
        "      <th>Indicator</th>\n",
        "      <th>Percentage/Rate</th>\n",
        "    </tr>\n",
        "  </thead>\n",
        "  <tbody>\n",
        "    <tr>\n",
        "      <th>66</th>\n",
        "      <td>          Genesee</td>\n",
        "      <td>  18</td>\n",
        "      <td> d1</td>\n",
        "      <td> Cardiovascular disease mortality rate per 100,000</td>\n",
        "      <td> 340.6</td>\n",
        "    </tr>\n",
        "    <tr>\n",
        "      <th>67</th>\n",
        "      <td>          Niagara</td>\n",
        "      <td>  29</td>\n",
        "      <td> d1</td>\n",
        "      <td> Cardiovascular disease mortality rate per 100,000</td>\n",
        "      <td> 415.4</td>\n",
        "    </tr>\n",
        "    <tr>\n",
        "      <th>68</th>\n",
        "      <td>          Orleans</td>\n",
        "      <td>  34</td>\n",
        "      <td> d1</td>\n",
        "      <td> Cardiovascular disease mortality rate per 100,000</td>\n",
        "      <td> 352.0</td>\n",
        "    </tr>\n",
        "    <tr>\n",
        "      <th>69</th>\n",
        "      <td>          Wyoming</td>\n",
        "      <td>  56</td>\n",
        "      <td> d1</td>\n",
        "      <td> Cardiovascular disease mortality rate per 100,000</td>\n",
        "      <td> 276.5</td>\n",
        "    </tr>\n",
        "    <tr>\n",
        "      <th>70</th>\n",
        "      <td> Western New York</td>\n",
        "      <td> 101</td>\n",
        "      <td> d1</td>\n",
        "      <td> Cardiovascular disease mortality rate per 100,000</td>\n",
        "      <td> 363.8</td>\n",
        "    </tr>\n",
        "  </tbody>\n",
        "</table>\n",
        "<p>5 rows \u00d7 5 columns</p>\n",
        "</div>"
       ],
       "metadata": {},
       "output_type": "pyout",
       "prompt_number": 9,
       "text": [
        "         County Name  County Code Indicator Number  \\\n",
        "66           Genesee           18               d1   \n",
        "67           Niagara           29               d1   \n",
        "68           Orleans           34               d1   \n",
        "69           Wyoming           56               d1   \n",
        "70  Western New York          101               d1   \n",
        "\n",
        "                                            Indicator  Percentage/Rate  \n",
        "66  Cardiovascular disease mortality rate per 100,000            340.6  \n",
        "67  Cardiovascular disease mortality rate per 100,000            415.4  \n",
        "68  Cardiovascular disease mortality rate per 100,000            352.0  \n",
        "69  Cardiovascular disease mortality rate per 100,000            276.5  \n",
        "70  Cardiovascular disease mortality rate per 100,000            363.8  \n",
        "\n",
        "[5 rows x 5 columns]"
       ]
      }
     ],
     "prompt_number": 9
    },
    {
     "cell_type": "markdown",
     "metadata": {},
     "source": [
      "- now extract just the rate so we can graph it"
     ]
    },
    {
     "cell_type": "code",
     "collapsed": false,
     "input": [
      "cardiac_rate=df_cardiac_mortality['Percentage/Rate']"
     ],
     "language": "python",
     "metadata": {},
     "outputs": [],
     "prompt_number": 10
    },
    {
     "cell_type": "markdown",
     "metadata": {},
     "source": [
      "- extract obesity data"
     ]
    },
    {
     "cell_type": "code",
     "collapsed": false,
     "input": [
      "df_obesity=df[(df['Indicator Number']=='g72')]\n",
      "obesity_rate=df_obesity['Percentage/Rate']\n",
      "df_obesity.tail()"
     ],
     "language": "python",
     "metadata": {},
     "outputs": [
      {
       "html": [
        "<div style=\"max-height:1000px;max-width:1500px;overflow:auto;\">\n",
        "<table border=\"1\" class=\"dataframe\">\n",
        "  <thead>\n",
        "    <tr style=\"text-align: right;\">\n",
        "      <th></th>\n",
        "      <th>County Name</th>\n",
        "      <th>County Code</th>\n",
        "      <th>Indicator Number</th>\n",
        "      <th>Indicator</th>\n",
        "      <th>Percentage/Rate</th>\n",
        "    </tr>\n",
        "  </thead>\n",
        "  <tbody>\n",
        "    <tr>\n",
        "      <th>1553</th>\n",
        "      <td>          Genesee</td>\n",
        "      <td>  18</td>\n",
        "      <td> g72</td>\n",
        "      <td> Percentage obese (95th percentile or higher) c...</td>\n",
        "      <td> 13.7</td>\n",
        "    </tr>\n",
        "    <tr>\n",
        "      <th>1554</th>\n",
        "      <td>          Niagara</td>\n",
        "      <td>  29</td>\n",
        "      <td> g72</td>\n",
        "      <td> Percentage obese (95th percentile or higher) c...</td>\n",
        "      <td> 14.4</td>\n",
        "    </tr>\n",
        "    <tr>\n",
        "      <th>1555</th>\n",
        "      <td>          Orleans</td>\n",
        "      <td>  34</td>\n",
        "      <td> g72</td>\n",
        "      <td> Percentage obese (95th percentile or higher) c...</td>\n",
        "      <td> 16.1</td>\n",
        "    </tr>\n",
        "    <tr>\n",
        "      <th>1556</th>\n",
        "      <td>          Wyoming</td>\n",
        "      <td>  56</td>\n",
        "      <td> g72</td>\n",
        "      <td> Percentage obese (95th percentile or higher) c...</td>\n",
        "      <td> 14.2</td>\n",
        "    </tr>\n",
        "    <tr>\n",
        "      <th>1557</th>\n",
        "      <td> Western New York</td>\n",
        "      <td> 101</td>\n",
        "      <td> g72</td>\n",
        "      <td> Percentage obese (95th percentile or higher) c...</td>\n",
        "      <td> 13.7</td>\n",
        "    </tr>\n",
        "  </tbody>\n",
        "</table>\n",
        "<p>5 rows \u00d7 5 columns</p>\n",
        "</div>"
       ],
       "metadata": {},
       "output_type": "pyout",
       "prompt_number": 11,
       "text": [
        "           County Name  County Code Indicator Number  \\\n",
        "1553           Genesee           18              g72   \n",
        "1554           Niagara           29              g72   \n",
        "1555           Orleans           34              g72   \n",
        "1556           Wyoming           56              g72   \n",
        "1557  Western New York          101              g72   \n",
        "\n",
        "                                              Indicator  Percentage/Rate  \n",
        "1553  Percentage obese (95th percentile or higher) c...             13.7  \n",
        "1554  Percentage obese (95th percentile or higher) c...             14.4  \n",
        "1555  Percentage obese (95th percentile or higher) c...             16.1  \n",
        "1556  Percentage obese (95th percentile or higher) c...             14.2  \n",
        "1557  Percentage obese (95th percentile or higher) c...             13.7  \n",
        "\n",
        "[5 rows x 5 columns]"
       ]
      }
     ],
     "prompt_number": 11
    },
    {
     "cell_type": "code",
     "collapsed": false,
     "input": [
      "df_diabetes_hospitalization=df[(df['Indicator Number']=='h12a')]\n",
      "diabetes_hospitalization_rate=df_diabetes_hospitalization['Percentage/Rate']"
     ],
     "language": "python",
     "metadata": {},
     "outputs": [],
     "prompt_number": 12
    },
    {
     "cell_type": "markdown",
     "metadata": {},
     "source": [
      "- now create a scatter plot"
     ]
    },
    {
     "cell_type": "code",
     "collapsed": false,
     "input": [
      "plt.scatter(obesity_rate, cardiac_rate)"
     ],
     "language": "python",
     "metadata": {},
     "outputs": [
      {
       "metadata": {},
       "output_type": "pyout",
       "prompt_number": 13,
       "text": [
        "<matplotlib.collections.PathCollection at 0x7ff51d83a690>"
       ]
      },
      {
       "metadata": {},
       "output_type": "display_data",
       "png": "[encoded data removed]",
       "text": [
        "<matplotlib.figure.Figure at 0x7ff51d8f2c50>"
       ]
      }
     ],
     "prompt_number": 13
    },
    {
     "cell_type": "code",
     "collapsed": false,
     "input": [
      "plt.scatter(obesity_rate, diabetes_hospitalization_rate)"
     ],
     "language": "python",
     "metadata": {},
     "outputs": [
      {
       "metadata": {},
       "output_type": "pyout",
       "prompt_number": 14,
       "text": [
        "<matplotlib.collections.PathCollection at 0x7ff51d65e1d0>"
       ]
      },
      {
       "metadata": {},
       "output_type": "display_data",
       "png": "[encoded data removed]",
       "text": [
        "<matplotlib.figure.Figure at 0x7ff51d6e2c90>"
       ]
      }
     ],
     "prompt_number": 14
    },
    {
     "cell_type": "code",
     "collapsed": false,
     "input": [
      "plt.scatter(cardiac_rate, diabetes_hospitalization_rate)"
     ],
     "language": "python",
     "metadata": {},
     "outputs": [
      {
       "metadata": {},
       "output_type": "pyout",
       "prompt_number": 15,
       "text": [
        "<matplotlib.collections.PathCollection at 0x7ff51d5a1290>"
       ]
      },
      {
       "metadata": {},
       "output_type": "display_data",
       "png": "[encoded data removed]",
       "text": [
        "<matplotlib.figure.Figure at 0x7ff51d6b7050>"
       ]
      }
     ],
     "prompt_number": 15
    },
    {
     "cell_type": "markdown",
     "metadata": {},
     "source": []
    },
    {
     "cell_type": "markdown",
     "metadata": {},
     "source": [
      "We can compare all three using a bubble chart.  Note we change the range of obesity from apr. 11 to 15, to 1 to 5.  This is done so that we get a better range for the bubbles"
     ]
    },
    {
     "cell_type": "code",
     "collapsed": false,
     "input": [
      "obesity_array=np.array(obesity_rate.tolist())\n",
      "obesity_array_no_nan= obesity_array[~np.isnan(obesity_array)]\n",
      "min=obesity_array_no_nan.min()\n",
      "obesity_array_for_bubble=(obesity_array-min+1)*10\n",
      "\n",
      "\n",
      "plt.scatter(cardiac_rate, diabetes_hospitalization_rate, s=obesity_array_for_bubble, marker='o', c=obesity_array_for_bubble)"
     ],
     "language": "python",
     "metadata": {},
     "outputs": [
      {
       "metadata": {},
       "output_type": "pyout",
       "prompt_number": 16,
       "text": [
        "<matplotlib.collections.PathCollection at 0x7ff51d4dfa50>"
       ]
      },
      {
       "metadata": {},
       "output_type": "display_data",
       "png": "[encoded data removed]",
       "text": [
        "<matplotlib.figure.Figure at 0x7ff51d66aa90>"
       ]
      }
     ],
     "prompt_number": 16
    }
   ],
   "metadata": {}
  }
 ]
}