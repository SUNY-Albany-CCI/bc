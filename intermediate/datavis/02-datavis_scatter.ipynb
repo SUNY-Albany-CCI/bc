{
 "metadata": {
  "name": "",
  "signature": "sha256:b98236fb3c236d4f444bdaeca23be2c5d55c6774cfe3bff92685a9492a3dd9da"
 },
 "nbformat": 3,
 "nbformat_minor": 0,
 "worksheets": [
  {
   "cells": [
    {
     "cell_type": "heading",
     "level": 1,
     "metadata": {},
     "source": [
      "Introduction"
     ]
    },
    {
     "cell_type": "markdown",
     "metadata": {},
     "source": [
      "What we are doing\n",
      "- we have a dataset containing health indicators by county\n",
      "- in this case we want to see if there is a relationship between two of them (such as obesity and cardiac mortality rate)"
     ]
    },
    {
     "cell_type": "markdown",
     "metadata": {},
     "source": [
      "Setup \n",
      "- indicate we want the plots to be shown inline \n",
      "- import the matplotlib library \n",
      "- import pandas (explain what pandas is) \n",
      "- use pandas to read csv"
     ]
    },
    {
     "cell_type": "code",
     "collapsed": false,
     "input": [
      "%matplotlib inline\n",
      "from matplotlib import pylab as plt\n",
      "import pandas as pd\n",
      "import numpy as np\n",
      "df = pd.read_csv(\"indicators.csv\")"
     ],
     "language": "python",
     "metadata": {},
     "outputs": [],
     "prompt_number": 21
    },
    {
     "cell_type": "markdown",
     "metadata": {},
     "source": [
      "In this step we are taking a look at the columns of the dataset to see how it is organized"
     ]
    },
    {
     "cell_type": "code",
     "collapsed": false,
     "input": [
      "df.columns"
     ],
     "language": "python",
     "metadata": {},
     "outputs": [
      {
       "metadata": {},
       "output_type": "pyout",
       "prompt_number": 2,
       "text": [
        "Index([u'County Name', u'County Code', u'Region Name', u'Indicator Number', u'Indicator', u'Total Event Counts', u'Denominator', u'Denominator Note', u'Measure Unit', u'Percentage/Rate', u'95% CI', u'Data Comments', u'Data Years', u'Data Sources', u'Quartile', u'Mapping Distribution', u'Location'], dtype='object')"
       ]
      }
     ],
     "prompt_number": 2
    },
    {
     "cell_type": "markdown",
     "metadata": {},
     "source": [
      "- extract a subset of columns to make the data easier to work with"
     ]
    },
    {
     "cell_type": "code",
     "collapsed": false,
     "input": [
      "df=df[['County Name', 'County Code', 'Indicator Number', 'Indicator', 'Percentage/Rate']]"
     ],
     "language": "python",
     "metadata": {},
     "outputs": [],
     "prompt_number": 3
    },
    {
     "cell_type": "markdown",
     "metadata": {},
     "source": [
      "df.head() is a command that prints the first 5 records of the dataset.  It is a useful way to take a look at how the data is organized."
     ]
    },
    {
     "cell_type": "code",
     "collapsed": false,
     "input": [
      "df.head()"
     ],
     "language": "python",
     "metadata": {},
     "outputs": [
      {
       "html": [
        "<div style=\"max-height:1000px;max-width:1500px;overflow:auto;\">\n",
        "<table border=\"1\" class=\"dataframe\">\n",
        "  <thead>\n",
        "    <tr style=\"text-align: right;\">\n",
        "      <th></th>\n",
        "      <th>County Name</th>\n",
        "      <th>County Code</th>\n",
        "      <th>Indicator Number</th>\n",
        "      <th>Indicator</th>\n",
        "      <th>Percentage/Rate</th>\n",
        "    </tr>\n",
        "  </thead>\n",
        "  <tbody>\n",
        "    <tr>\n",
        "      <th>0</th>\n",
        "      <td>    Cayuga</td>\n",
        "      <td>  5</td>\n",
        "      <td> d1</td>\n",
        "      <td> Cardiovascular disease mortality rate per 100,000</td>\n",
        "      <td> 301.3</td>\n",
        "    </tr>\n",
        "    <tr>\n",
        "      <th>1</th>\n",
        "      <td>  Cortland</td>\n",
        "      <td> 11</td>\n",
        "      <td> d1</td>\n",
        "      <td> Cardiovascular disease mortality rate per 100,000</td>\n",
        "      <td> 241.3</td>\n",
        "    </tr>\n",
        "    <tr>\n",
        "      <th>2</th>\n",
        "      <td>  Herkimer</td>\n",
        "      <td> 21</td>\n",
        "      <td> d1</td>\n",
        "      <td> Cardiovascular disease mortality rate per 100,000</td>\n",
        "      <td> 402.8</td>\n",
        "    </tr>\n",
        "    <tr>\n",
        "      <th>3</th>\n",
        "      <td> Jefferson</td>\n",
        "      <td> 22</td>\n",
        "      <td> d1</td>\n",
        "      <td> Cardiovascular disease mortality rate per 100,000</td>\n",
        "      <td> 289.9</td>\n",
        "    </tr>\n",
        "    <tr>\n",
        "      <th>4</th>\n",
        "      <td>     Lewis</td>\n",
        "      <td> 23</td>\n",
        "      <td> d1</td>\n",
        "      <td> Cardiovascular disease mortality rate per 100,000</td>\n",
        "      <td> 296.3</td>\n",
        "    </tr>\n",
        "  </tbody>\n",
        "</table>\n",
        "</div>"
       ],
       "metadata": {},
       "output_type": "pyout",
       "prompt_number": 4,
       "text": [
        "  County Name  County Code Indicator Number  \\\n",
        "0      Cayuga            5               d1   \n",
        "1    Cortland           11               d1   \n",
        "2    Herkimer           21               d1   \n",
        "3   Jefferson           22               d1   \n",
        "4       Lewis           23               d1   \n",
        "\n",
        "                                           Indicator  Percentage/Rate  \n",
        "0  Cardiovascular disease mortality rate per 100,000            301.3  \n",
        "1  Cardiovascular disease mortality rate per 100,000            241.3  \n",
        "2  Cardiovascular disease mortality rate per 100,000            402.8  \n",
        "3  Cardiovascular disease mortality rate per 100,000            289.9  \n",
        "4  Cardiovascular disease mortality rate per 100,000            296.3  "
       ]
      }
     ],
     "prompt_number": 4
    },
    {
     "cell_type": "markdown",
     "metadata": {},
     "source": [
      "- extract cardiac mortality from the dataset\n",
      "- todo: explain how to inspect data and find the indicator numbers (somehow get a view of just the indicators and the corresponding numbers)"
     ]
    },
    {
     "cell_type": "code",
     "collapsed": false,
     "input": [
      "df_cardiac_mortality=df[(df['Indicator Number']=='d1')]\n",
      "df_cardiac_mortality.tail()"
     ],
     "language": "python",
     "metadata": {},
     "outputs": [
      {
       "html": [
        "<div style=\"max-height:1000px;max-width:1500px;overflow:auto;\">\n",
        "<table border=\"1\" class=\"dataframe\">\n",
        "  <thead>\n",
        "    <tr style=\"text-align: right;\">\n",
        "      <th></th>\n",
        "      <th>County Name</th>\n",
        "      <th>County Code</th>\n",
        "      <th>Indicator Number</th>\n",
        "      <th>Indicator</th>\n",
        "      <th>Percentage/Rate</th>\n",
        "    </tr>\n",
        "  </thead>\n",
        "  <tbody>\n",
        "    <tr>\n",
        "      <th>66</th>\n",
        "      <td>          Genesee</td>\n",
        "      <td>  18</td>\n",
        "      <td> d1</td>\n",
        "      <td> Cardiovascular disease mortality rate per 100,000</td>\n",
        "      <td> 340.6</td>\n",
        "    </tr>\n",
        "    <tr>\n",
        "      <th>67</th>\n",
        "      <td>          Niagara</td>\n",
        "      <td>  29</td>\n",
        "      <td> d1</td>\n",
        "      <td> Cardiovascular disease mortality rate per 100,000</td>\n",
        "      <td> 415.4</td>\n",
        "    </tr>\n",
        "    <tr>\n",
        "      <th>68</th>\n",
        "      <td>          Orleans</td>\n",
        "      <td>  34</td>\n",
        "      <td> d1</td>\n",
        "      <td> Cardiovascular disease mortality rate per 100,000</td>\n",
        "      <td> 352.0</td>\n",
        "    </tr>\n",
        "    <tr>\n",
        "      <th>69</th>\n",
        "      <td>          Wyoming</td>\n",
        "      <td>  56</td>\n",
        "      <td> d1</td>\n",
        "      <td> Cardiovascular disease mortality rate per 100,000</td>\n",
        "      <td> 276.5</td>\n",
        "    </tr>\n",
        "    <tr>\n",
        "      <th>70</th>\n",
        "      <td> Western New York</td>\n",
        "      <td> 101</td>\n",
        "      <td> d1</td>\n",
        "      <td> Cardiovascular disease mortality rate per 100,000</td>\n",
        "      <td> 363.8</td>\n",
        "    </tr>\n",
        "  </tbody>\n",
        "</table>\n",
        "</div>"
       ],
       "metadata": {},
       "output_type": "pyout",
       "prompt_number": 5,
       "text": [
        "         County Name  County Code Indicator Number  \\\n",
        "66           Genesee           18               d1   \n",
        "67           Niagara           29               d1   \n",
        "68           Orleans           34               d1   \n",
        "69           Wyoming           56               d1   \n",
        "70  Western New York          101               d1   \n",
        "\n",
        "                                            Indicator  Percentage/Rate  \n",
        "66  Cardiovascular disease mortality rate per 100,000            340.6  \n",
        "67  Cardiovascular disease mortality rate per 100,000            415.4  \n",
        "68  Cardiovascular disease mortality rate per 100,000            352.0  \n",
        "69  Cardiovascular disease mortality rate per 100,000            276.5  \n",
        "70  Cardiovascular disease mortality rate per 100,000            363.8  "
       ]
      }
     ],
     "prompt_number": 5
    },
    {
     "cell_type": "markdown",
     "metadata": {},
     "source": [
      "- now extract just the rate so we can graph it"
     ]
    },
    {
     "cell_type": "code",
     "collapsed": false,
     "input": [
      "cardiac_rate=df_cardiac_mortality['Percentage/Rate']"
     ],
     "language": "python",
     "metadata": {},
     "outputs": [],
     "prompt_number": 6
    },
    {
     "cell_type": "markdown",
     "metadata": {},
     "source": [
      "- extract obesity data"
     ]
    },
    {
     "cell_type": "code",
     "collapsed": false,
     "input": [
      "df_obesity=df[(df['Indicator Number']=='g72')]\n",
      "obesity_rate=df_obesity['Percentage/Rate']\n",
      "df_obesity.tail()"
     ],
     "language": "python",
     "metadata": {},
     "outputs": [
      {
       "html": [
        "<div style=\"max-height:1000px;max-width:1500px;overflow:auto;\">\n",
        "<table border=\"1\" class=\"dataframe\">\n",
        "  <thead>\n",
        "    <tr style=\"text-align: right;\">\n",
        "      <th></th>\n",
        "      <th>County Name</th>\n",
        "      <th>County Code</th>\n",
        "      <th>Indicator Number</th>\n",
        "      <th>Indicator</th>\n",
        "      <th>Percentage/Rate</th>\n",
        "    </tr>\n",
        "  </thead>\n",
        "  <tbody>\n",
        "    <tr>\n",
        "      <th>1553</th>\n",
        "      <td>          Genesee</td>\n",
        "      <td>  18</td>\n",
        "      <td> g72</td>\n",
        "      <td> Percentage obese (95th percentile or higher) c...</td>\n",
        "      <td> 13.7</td>\n",
        "    </tr>\n",
        "    <tr>\n",
        "      <th>1554</th>\n",
        "      <td>          Niagara</td>\n",
        "      <td>  29</td>\n",
        "      <td> g72</td>\n",
        "      <td> Percentage obese (95th percentile or higher) c...</td>\n",
        "      <td> 14.4</td>\n",
        "    </tr>\n",
        "    <tr>\n",
        "      <th>1555</th>\n",
        "      <td>          Orleans</td>\n",
        "      <td>  34</td>\n",
        "      <td> g72</td>\n",
        "      <td> Percentage obese (95th percentile or higher) c...</td>\n",
        "      <td> 16.1</td>\n",
        "    </tr>\n",
        "    <tr>\n",
        "      <th>1556</th>\n",
        "      <td>          Wyoming</td>\n",
        "      <td>  56</td>\n",
        "      <td> g72</td>\n",
        "      <td> Percentage obese (95th percentile or higher) c...</td>\n",
        "      <td> 14.2</td>\n",
        "    </tr>\n",
        "    <tr>\n",
        "      <th>1557</th>\n",
        "      <td> Western New York</td>\n",
        "      <td> 101</td>\n",
        "      <td> g72</td>\n",
        "      <td> Percentage obese (95th percentile or higher) c...</td>\n",
        "      <td> 13.7</td>\n",
        "    </tr>\n",
        "  </tbody>\n",
        "</table>\n",
        "</div>"
       ],
       "metadata": {},
       "output_type": "pyout",
       "prompt_number": 7,
       "text": [
        "           County Name  County Code Indicator Number  \\\n",
        "1553           Genesee           18              g72   \n",
        "1554           Niagara           29              g72   \n",
        "1555           Orleans           34              g72   \n",
        "1556           Wyoming           56              g72   \n",
        "1557  Western New York          101              g72   \n",
        "\n",
        "                                              Indicator  Percentage/Rate  \n",
        "1553  Percentage obese (95th percentile or higher) c...             13.7  \n",
        "1554  Percentage obese (95th percentile or higher) c...             14.4  \n",
        "1555  Percentage obese (95th percentile or higher) c...             16.1  \n",
        "1556  Percentage obese (95th percentile or higher) c...             14.2  \n",
        "1557  Percentage obese (95th percentile or higher) c...             13.7  "
       ]
      }
     ],
     "prompt_number": 7
    },
    {
     "cell_type": "code",
     "collapsed": false,
     "input": [
      "df_diabetes_hospitalization=df[(df['Indicator Number']=='h12a')]\n",
      "diabetes_hospitalization_rate=df_diabetes_hospitalization['Percentage/Rate']"
     ],
     "language": "python",
     "metadata": {},
     "outputs": [],
     "prompt_number": 8
    },
    {
     "cell_type": "markdown",
     "metadata": {},
     "source": [
      "- now create a scatter plot"
     ]
    },
    {
     "cell_type": "code",
     "collapsed": false,
     "input": [
      "plt.scatter(obesity_rate, cardiac_rate)"
     ],
     "language": "python",
     "metadata": {},
     "outputs": [
      {
       "metadata": {},
       "output_type": "pyout",
       "prompt_number": 12,
       "text": [
        "<matplotlib.collections.PathCollection at 0x7fb54303e090>"
       ]
      },
      {
       "metadata": {},
       "output_type": "display_data",
       "png": "[encoded data removed]",
       "text": [
        "<matplotlib.figure.Figure at 0x7fb543390750>"
       ]
      }
     ],
     "prompt_number": 12
    },
    {
     "cell_type": "code",
     "collapsed": false,
     "input": [
      "plt.scatter(obesity_rate, diabetes_hospitalization_rate)"
     ],
     "language": "python",
     "metadata": {},
     "outputs": [
      {
       "metadata": {},
       "output_type": "pyout",
       "prompt_number": 14,
       "text": [
        "<matplotlib.collections.PathCollection at 0x7fb542fa5950>"
       ]
      },
      {
       "metadata": {},
       "output_type": "display_data",
       "png": "[encoded data removed]",
       "text": [
        "<matplotlib.figure.Figure at 0x7fb543029a50>"
       ]
      }
     ],
     "prompt_number": 14
    },
    {
     "cell_type": "code",
     "collapsed": false,
     "input": [
      "plt.scatter(cardiac_rate, diabetes_hospitalization_rate)"
     ],
     "language": "python",
     "metadata": {},
     "outputs": [
      {
       "metadata": {},
       "output_type": "pyout",
       "prompt_number": 15,
       "text": [
        "<matplotlib.collections.PathCollection at 0x7fb542ecc1d0>"
       ]
      },
      {
       "metadata": {},
       "output_type": "display_data",
       "png": "[encoded data removed]",
       "text": [
        "<matplotlib.figure.Figure at 0x7fb543029e10>"
       ]
      }
     ],
     "prompt_number": 15
    },
    {
     "cell_type": "markdown",
     "metadata": {},
     "source": []
    },
    {
     "cell_type": "markdown",
     "metadata": {},
     "source": [
      "We can compare all three using a bubble chart.  Note we change the range of obesity from apr. 11 to 15, to 1 to 5.  This is done so that we get a better range for the bubbles"
     ]
    },
    {
     "cell_type": "code",
     "collapsed": false,
     "input": [
      "obesity_array=np.array(obesity_rate.tolist())\n",
      "obesity_array_no_nan= obesity_array[~np.isnan(obesity_array)]\n",
      "min=obesity_array_no_nan.min()\n",
      "obesity_array_for_bubble=(obesity_array-min+1)*10\n",
      "\n",
      "\n",
      "plt.scatter(cardiac_rate, diabetes_hospitalization_rate, s=obesity_array_for_bubble, marker='o', c=obesity_array_for_bubble)"
     ],
     "language": "python",
     "metadata": {},
     "outputs": [
      {
       "metadata": {},
       "output_type": "pyout",
       "prompt_number": 33,
       "text": [
        "<matplotlib.collections.PathCollection at 0x7fb542b5ff50>"
       ]
      },
      {
       "metadata": {},
       "output_type": "display_data",
       "png": "[encoded data removed]",
       "text": [
        "<matplotlib.figure.Figure at 0x7fb542be53d0>"
       ]
      }
     ],
     "prompt_number": 33
    }
   ],
   "metadata": {}
  }
 ]
}