{
 "metadata": {
  "name": "",
  "signature": "sha256:f64a89cfb0ee154efc5598c9901796bda52292a7f0bef772576e3a90ad41cf28"
 },
 "nbformat": 3,
 "nbformat_minor": 0,
 "worksheets": [
  {
   "cells": [
    {
     "cell_type": "heading",
     "level": 1,
     "metadata": {},
     "source": [
      "Introduction"
     ]
    },
    {
     "cell_type": "heading",
     "level": 2,
     "metadata": {},
     "source": [
      "What we are doing"
     ]
    },
    {
     "cell_type": "markdown",
     "metadata": {},
     "source": [
      "- We have a dataset containing health indicators by county\n",
      "  - In the US, a \"county\" is an administrative unit that comprises multiple towns.\n",
      "- In this case we want to see if there is a relationship between two of these health indicators; such as obesity and cardiac mortality rate.\n",
      "- In order to expose that potential relationship we use a scatter plot, that display one valiable against the other."
     ]
    },
    {
     "cell_type": "heading",
     "level": 2,
     "metadata": {},
     "source": [
      "Setup"
     ]
    },
    {
     "cell_type": "heading",
     "level": 3,
     "metadata": {},
     "source": [
      "Importing Modules"
     ]
    },
    {
     "cell_type": "markdown",
     "metadata": {},
     "source": [
      "We start by importing the modules that will provide the basic functionalites for data manipulation and visualization."
     ]
    },
    {
     "cell_type": "heading",
     "level": 3,
     "metadata": {},
     "source": [
      "Plotting Modules"
     ]
    },
    {
     "cell_type": "markdown",
     "metadata": {},
     "source": [
      "Here we import the modules that support ploting functionalities."
     ]
    },
    {
     "cell_type": "markdown",
     "metadata": {},
     "source": [
      "The following command indicates that we want the plots to be shown \"inline\" (in the web page)"
     ]
    },
    {
     "cell_type": "code",
     "collapsed": false,
     "input": [
      "%matplotlib inline"
     ],
     "language": "python",
     "metadata": {},
     "outputs": [],
     "prompt_number": 1
    },
    {
     "cell_type": "markdown",
     "metadata": {},
     "source": [
      "Then we import \"matplotlib\".\n",
      "- This is a module that provides basic and advanced plotting functionalities.\n",
      "- More specifically, we import its \"pylab\" submodule.\n",
      "- We assign to it the alias \"plt\", to make easier for us to type subsequent commands."
     ]
    },
    {
     "cell_type": "code",
     "collapsed": false,
     "input": [
      "from matplotlib import pylab as plt"
     ],
     "language": "python",
     "metadata": {},
     "outputs": [],
     "prompt_number": 2
    },
    {
     "cell_type": "heading",
     "level": 3,
     "metadata": {},
     "source": [
      "Data Analysis Modules"
     ]
    },
    {
     "cell_type": "markdown",
     "metadata": {},
     "source": [
      "We now import the \"pandas\" module.\n",
      "- It provides easy to use feature for performing data analysis\n",
      "- It is well integrated with the plotting module\n",
      "- It provides support for reading data from many different file formats\n",
      "- We assign to it the alias \"pd\" to make easier for us to type commands later"
     ]
    },
    {
     "cell_type": "code",
     "collapsed": false,
     "input": [
      "import pandas as pd"
     ],
     "language": "python",
     "metadata": {},
     "outputs": [],
     "prompt_number": 3
    },
    {
     "cell_type": "markdown",
     "metadata": {},
     "source": [
      "We use the \"read_csv\" function from the pandas module, to read a csv (\"comma separated\") file."
     ]
    },
    {
     "cell_type": "code",
     "collapsed": false,
     "input": [
      "df = pd.read_csv(\"indicators.csv\")"
     ],
     "language": "python",
     "metadata": {},
     "outputs": [],
     "prompt_number": 4
    },
    {
     "cell_type": "heading",
     "level": 3,
     "metadata": {},
     "source": [
      "Numerical Modules"
     ]
    },
    {
     "cell_type": "markdown",
     "metadata": {},
     "source": [
      "Now we import the \"numpy\" module.\n",
      "- It provides support for numerical computation\n",
      "- In particular processing of vectors and matrices"
     ]
    },
    {
     "cell_type": "code",
     "collapsed": false,
     "input": [
      "import numpy as np"
     ],
     "language": "python",
     "metadata": {},
     "outputs": [],
     "prompt_number": 5
    },
    {
     "cell_type": "heading",
     "level": 2,
     "metadata": {},
     "source": [
      "Data Exploration"
     ]
    },
    {
     "cell_type": "markdown",
     "metadata": {},
     "source": [
      "In this step we are taking a look at the columns of the dataset to see how it is organized"
     ]
    },
    {
     "cell_type": "code",
     "collapsed": false,
     "input": [
      "df.columns"
     ],
     "language": "python",
     "metadata": {},
     "outputs": [
      {
       "metadata": {},
       "output_type": "pyout",
       "prompt_number": 6,
       "text": [
        "Index([u'County Name', u'County Code', u'Region Name', u'Indicator Number', u'Indicator', u'Total Event Counts', u'Denominator', u'Denominator Note', u'Measure Unit', u'Percentage/Rate', u'95% CI', u'Data Comments', u'Data Years', u'Data Sources', u'Quartile', u'Mapping Distribution', u'Location'], dtype='object')"
       ]
      }
     ],
     "prompt_number": 6
    },
    {
     "cell_type": "markdown",
     "metadata": {},
     "source": [
      "- extract a subset of columns to make the data easier to work with"
     ]
    },
    {
     "cell_type": "code",
     "collapsed": false,
     "input": [
      "df=df[['County Name', 'County Code', 'Indicator Number', 'Indicator', 'Percentage/Rate']]"
     ],
     "language": "python",
     "metadata": {},
     "outputs": [],
     "prompt_number": 7
    },
    {
     "cell_type": "markdown",
     "metadata": {},
     "source": [
      "df.head() is a command that prints the first 5 records of the dataset.  It is a useful way to take a look at how the data is organized."
     ]
    },
    {
     "cell_type": "code",
     "collapsed": false,
     "input": [
      "df.head()"
     ],
     "language": "python",
     "metadata": {},
     "outputs": [
      {
       "html": [
        "<div style=\"max-height:1000px;max-width:1500px;overflow:auto;\">\n",
        "<table border=\"1\" class=\"dataframe\">\n",
        "  <thead>\n",
        "    <tr style=\"text-align: right;\">\n",
        "      <th></th>\n",
        "      <th>County Name</th>\n",
        "      <th>County Code</th>\n",
        "      <th>Indicator Number</th>\n",
        "      <th>Indicator</th>\n",
        "      <th>Percentage/Rate</th>\n",
        "    </tr>\n",
        "  </thead>\n",
        "  <tbody>\n",
        "    <tr>\n",
        "      <th>0</th>\n",
        "      <td>    Cayuga</td>\n",
        "      <td>  5</td>\n",
        "      <td> d1</td>\n",
        "      <td> Cardiovascular disease mortality rate per 100,000</td>\n",
        "      <td> 301.3</td>\n",
        "    </tr>\n",
        "    <tr>\n",
        "      <th>1</th>\n",
        "      <td>  Cortland</td>\n",
        "      <td> 11</td>\n",
        "      <td> d1</td>\n",
        "      <td> Cardiovascular disease mortality rate per 100,000</td>\n",
        "      <td> 241.3</td>\n",
        "    </tr>\n",
        "    <tr>\n",
        "      <th>2</th>\n",
        "      <td>  Herkimer</td>\n",
        "      <td> 21</td>\n",
        "      <td> d1</td>\n",
        "      <td> Cardiovascular disease mortality rate per 100,000</td>\n",
        "      <td> 402.8</td>\n",
        "    </tr>\n",
        "    <tr>\n",
        "      <th>3</th>\n",
        "      <td> Jefferson</td>\n",
        "      <td> 22</td>\n",
        "      <td> d1</td>\n",
        "      <td> Cardiovascular disease mortality rate per 100,000</td>\n",
        "      <td> 289.9</td>\n",
        "    </tr>\n",
        "    <tr>\n",
        "      <th>4</th>\n",
        "      <td>     Lewis</td>\n",
        "      <td> 23</td>\n",
        "      <td> d1</td>\n",
        "      <td> Cardiovascular disease mortality rate per 100,000</td>\n",
        "      <td> 296.3</td>\n",
        "    </tr>\n",
        "  </tbody>\n",
        "</table>\n",
        "<p>5 rows \u00d7 5 columns</p>\n",
        "</div>"
       ],
       "metadata": {},
       "output_type": "pyout",
       "prompt_number": 8,
       "text": [
        "  County Name  County Code Indicator Number  \\\n",
        "0      Cayuga            5               d1   \n",
        "1    Cortland           11               d1   \n",
        "2    Herkimer           21               d1   \n",
        "3   Jefferson           22               d1   \n",
        "4       Lewis           23               d1   \n",
        "\n",
        "                                           Indicator  Percentage/Rate  \n",
        "0  Cardiovascular disease mortality rate per 100,000            301.3  \n",
        "1  Cardiovascular disease mortality rate per 100,000            241.3  \n",
        "2  Cardiovascular disease mortality rate per 100,000            402.8  \n",
        "3  Cardiovascular disease mortality rate per 100,000            289.9  \n",
        "4  Cardiovascular disease mortality rate per 100,000            296.3  \n",
        "\n",
        "[5 rows x 5 columns]"
       ]
      }
     ],
     "prompt_number": 8
    },
    {
     "cell_type": "markdown",
     "metadata": {},
     "source": [
      "The pandas unique() function can be used to examine the unique values for a column.   "
     ]
    },
    {
     "cell_type": "code",
     "collapsed": false,
     "input": [
      "indicators=pd.Series(df['Indicator'].unique())\n",
      "print indicators"
     ],
     "language": "python",
     "metadata": {},
     "outputs": [
      {
       "output_type": "stream",
       "stream": "stdout",
       "text": [
        "0     Cardiovascular disease mortality rate per 100,000\n",
        "1     Cerebrovascular disease (stroke) mortality rat...\n",
        "2     Age-adjusted cerebrovascular disease (stroke) ...\n",
        "3     Age-adjusted cardiovascular disease mortality ...\n",
        "4                  Cirrhosis mortality rate per 100,000\n",
        "5     Age-adjusted cirrhosis mortality rate per 100,000\n",
        "6                   Diabetes mortality rate per 100,000\n",
        "7      Age-adjusted diabetes mortality rate per 100,000\n",
        "8     Age-adjusted percentage of adults with physici...\n",
        "9     Age-adjusted percentage of adults with physici...\n",
        "10    Percentage of pregnant women in WIC who were p...\n",
        "11    Percentage of pregnant women in WIC who were p...\n",
        "12    Percentage of WIC mothers breastfeeding at lea...\n",
        "13    Percentage overweight but not obese (85th-<95t...\n",
        "14    Percentage obese (95th percentile or higher) -...\n",
        "15    Percentage overweight or obese (85th percentil...\n",
        "16    Percentage overweight but not obese (85th-<95t...\n",
        "17    Percentage obese (95th percentile or higher ) ...\n",
        "18    Percentage overweight or obese (85th percentil...\n",
        "19    Percentage overweight but not obese (85th-<95t...\n",
        "20    Percentage obese (95th percentile or higher ) ...\n",
        "21    Percentage overweight or obese (85th percentil...\n",
        "22    Percentage obese (95th percentile or higher) c...\n",
        "23    Percentage of children (aged 2-4 years) enroll...\n",
        "24    Age-adjusted percentage of adults overweight o...\n",
        "25    Age-adjusted percentage of adults obese (BMI 3...\n",
        "26    Age-adjusted percentage of adults who did not ...\n",
        "27    Age-adjusted percentage of adults eating 5 or ...\n",
        "28    Cardiovascular disease hospitalization rate pe...\n",
        "29            Cirrhosis hospitalization rate per 10,000\n",
        "30    Age-adjusted cirrhosis hospitalization rate pe...\n",
        "31    Diabetes hospitalization rate per 10,000 (prim...\n",
        "32    Age-adjusted diabetes hospitalization rate per...\n",
        "33    Diabetes hospitalization rate per 10,000 (any ...\n",
        "34    Age-adjusted diabetes hospitalization rate per...\n",
        "35    Age-adjusted cardiovascular disease hospitaliz...\n",
        "36    Diabetes short-term complications hospitalizat...\n",
        "37    Diabetes Short-term Complications Hospitalizat...\n",
        "38    Cerebrovascular disease (stroke) hospitalizati...\n",
        "39    Age-adjusted cerebrovascular disease (stroke) ...\n",
        "dtype: object\n"
       ]
      }
     ],
     "prompt_number": 32
    },
    {
     "cell_type": "markdown",
     "metadata": {},
     "source": [
      "Define indicators to plot.  We can choose indicators from the list and just refer to them by number.  Print them out as to verify which indicators we are plotting. "
     ]
    },
    {
     "cell_type": "code",
     "collapsed": false,
     "input": [
      "indicator1=indicators[5]\n",
      "indicator2=indicators[10]\n",
      "indicator3=indicators[15]\n",
      "\n",
      "print indicator1+\": \"+indicator2+"
     ],
     "language": "python",
     "metadata": {},
     "outputs": [],
     "prompt_number": 34
    },
    {
     "cell_type": "markdown",
     "metadata": {},
     "source": [
      "extract the data"
     ]
    },
    {
     "cell_type": "code",
     "collapsed": false,
     "input": [
      "data1=df[(df['Indicator']==indicator1)]\n",
      "rate1=data1['Percentage/Rate']\n",
      "\n",
      "data2=df[(df['Indicator']==indicator2)]\n",
      "rate2=data2['Percentage/Rate']\n",
      "\n",
      "data3=df[(df['Indicator']==indicator3)]\n",
      "rate3=data3['Percentage/Rate']\n",
      "\n"
     ],
     "language": "python",
     "metadata": {},
     "outputs": [],
     "prompt_number": 38
    },
    {
     "cell_type": "markdown",
     "metadata": {},
     "source": [
      "Real life data is messy.  There is no guarentee the data is complete.  In which case the lengths of the arrays may be different.  In order to prevent potential errors find the minimum data length and use that many data points for all arrays. "
     ]
    },
    {
     "cell_type": "code",
     "collapsed": false,
     "input": [
      "n = np.array([len(rate1), len(rate2), len(rate3)]).min()\n",
      "\n",
      "rate1=rate1[1:n]\n",
      "rate2=rate2[1:n]\n",
      "rate3=rate3[1:n]"
     ],
     "language": "python",
     "metadata": {},
     "outputs": [],
     "prompt_number": 60
    },
    {
     "cell_type": "markdown",
     "metadata": {},
     "source": [
      "Create the scatter plot. "
     ]
    },
    {
     "cell_type": "code",
     "collapsed": false,
     "input": [
      "plt.scatter(rate1, rate2)"
     ],
     "language": "python",
     "metadata": {},
     "outputs": [
      {
       "metadata": {},
       "output_type": "pyout",
       "prompt_number": 56,
       "text": [
        "<matplotlib.collections.PathCollection at 0x439dd90>"
       ]
      },
      {
       "metadata": {},
       "output_type": "display_data",
       "png": "[encoded data removed]",
       "text": [
        "<matplotlib.figure.Figure at 0x3bfe3d0>"
       ]
      }
     ],
     "prompt_number": 56
    },
    {
     "cell_type": "markdown",
     "metadata": {},
     "source": [
      "Create a second scatter plot. "
     ]
    },
    {
     "cell_type": "code",
     "collapsed": false,
     "input": [
      "plt.scatter(rate2, rate3)"
     ],
     "language": "python",
     "metadata": {},
     "outputs": [
      {
       "metadata": {},
       "output_type": "pyout",
       "prompt_number": 61,
       "text": [
        "<matplotlib.collections.PathCollection at 0x46d53d0>"
       ]
      },
      {
       "metadata": {},
       "output_type": "display_data",
       "png": "[encoded data removed]",
       "text": [
        "<matplotlib.figure.Figure at 0x43b2e10>"
       ]
      }
     ],
     "prompt_number": 61
    },
    {
     "cell_type": "markdown",
     "metadata": {},
     "source": []
    },
    {
     "cell_type": "markdown",
     "metadata": {},
     "source": [
      "We can compare all three using a bubble chart.  "
     ]
    },
    {
     "cell_type": "code",
     "collapsed": false,
     "input": [
      "array1=np.array(rate1.tolist())\n",
      "array1= array1[~np.isnan(array1)]\n",
      "min=array1.min()\n",
      "array_for_bubble=(array1-min+1)*10\n",
      "\n",
      "\n",
      "plt.scatter(rate1, rate2, s=array_for_bubble, marker='o', c=array_for_bubble)"
     ],
     "language": "python",
     "metadata": {},
     "outputs": [
      {
       "metadata": {},
       "output_type": "pyout",
       "prompt_number": 59,
       "text": [
        "<matplotlib.collections.PathCollection at 0x4836f90>"
       ]
      },
      {
       "metadata": {},
       "output_type": "display_data",
       "png": "[encoded data removed]",
       "text": [
        "<matplotlib.figure.Figure at 0x43af910>"
       ]
      }
     ],
     "prompt_number": 59
    },
    {
     "cell_type": "code",
     "collapsed": false,
     "input": [],
     "language": "python",
     "metadata": {},
     "outputs": []
    }
   ],
   "metadata": {}
  }
 ]
}