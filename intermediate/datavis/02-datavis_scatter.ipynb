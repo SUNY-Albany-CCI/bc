{
 "metadata": {
  "name": "",
  "signature": "sha256:08b969f8e22ba2725ffa05fd589572d2e2d2b9663c0e1915ec03cbf1738592e3"
 },
 "nbformat": 3,
 "nbformat_minor": 0,
 "worksheets": [
  {
   "cells": [
    {
     "cell_type": "heading",
     "level": 1,
     "metadata": {},
     "source": [
      "Introduction"
     ]
    },
    {
     "cell_type": "heading",
     "level": 2,
     "metadata": {},
     "source": [
      "What we are doing"
     ]
    },
    {
     "cell_type": "markdown",
     "metadata": {},
     "source": [
      "- We have a dataset containing health indicators by county\n",
      "  - In the US, a \"county\" is an administrative unit that comprises multiple towns.\n",
      "- In this case we want to see if there is a relationship between two of these health indicators; such as obesity and cardiac mortality rate.\n",
      "- In order to expose that potential relationship we use a scatter plot, that display one valiable against the other."
     ]
    },
    {
     "cell_type": "heading",
     "level": 2,
     "metadata": {},
     "source": [
      "Setup"
     ]
    },
    {
     "cell_type": "heading",
     "level": 3,
     "metadata": {},
     "source": [
      "Importing Modules"
     ]
    },
    {
     "cell_type": "markdown",
     "metadata": {},
     "source": [
      "We start by importing the modules that will provide the basic functionalites for data manipulation and visualization."
     ]
    },
    {
     "cell_type": "heading",
     "level": 3,
     "metadata": {},
     "source": [
      "Plotting Modules"
     ]
    },
    {
     "cell_type": "markdown",
     "metadata": {},
     "source": [
      "Here we import the modules that support ploting functionalities."
     ]
    },
    {
     "cell_type": "markdown",
     "metadata": {},
     "source": [
      "The following command indicates that we want the plots to be shown \"inline\" (in the web page)"
     ]
    },
    {
     "cell_type": "code",
     "collapsed": false,
     "input": [
      "%matplotlib inline"
     ],
     "language": "python",
     "metadata": {},
     "outputs": [],
     "prompt_number": 1
    },
    {
     "cell_type": "markdown",
     "metadata": {},
     "source": [
      "Then we import \"matplotlib\".\n",
      "- This is a module that provides basic and advanced plotting functionalities.\n",
      "- More specifically, we import its \"pylab\" submodule.\n",
      "- We assign to it the alias \"plt\", to make easier for us to type subsequent commands."
     ]
    },
    {
     "cell_type": "code",
     "collapsed": false,
     "input": [
      "from matplotlib import pylab as plt"
     ],
     "language": "python",
     "metadata": {},
     "outputs": [],
     "prompt_number": 2
    },
    {
     "cell_type": "heading",
     "level": 3,
     "metadata": {},
     "source": [
      "Data Analysis Modules"
     ]
    },
    {
     "cell_type": "markdown",
     "metadata": {},
     "source": [
      "We now import the \"pandas\" module.\n",
      "- It provides easy to use features for performing data analysis\n",
      "- It is well integrated with the plotting module\n",
      "- It provides support for reading data from many different file formats\n",
      "- We assign to it the alias \"pd\" to make easier for us to type commands later"
     ]
    },
    {
     "cell_type": "code",
     "collapsed": false,
     "input": [
      "import pandas as pd"
     ],
     "language": "python",
     "metadata": {},
     "outputs": [],
     "prompt_number": 3
    },
    {
     "cell_type": "markdown",
     "metadata": {},
     "source": [
      "We use the \"read_csv\" function from the pandas module, to read a csv (\"comma separated\") file containing the health indicators data."
     ]
    },
    {
     "cell_type": "code",
     "collapsed": false,
     "input": [
      "df = pd.read_csv(\"indicators.csv\")"
     ],
     "language": "python",
     "metadata": {},
     "outputs": [],
     "prompt_number": 4
    },
    {
     "cell_type": "heading",
     "level": 3,
     "metadata": {},
     "source": [
      "Numerical Modules"
     ]
    },
    {
     "cell_type": "markdown",
     "metadata": {},
     "source": [
      "Now we import the \"numpy\" module.\n",
      "- It provides support for numerical computation\n",
      "- In particular processing of vectors and matrices\n",
      "- We assign to it the alias \"np\" to make easier for us to type commands later"
     ]
    },
    {
     "cell_type": "code",
     "collapsed": false,
     "input": [
      "import numpy as np"
     ],
     "language": "python",
     "metadata": {},
     "outputs": [],
     "prompt_number": 5
    },
    {
     "cell_type": "heading",
     "level": 2,
     "metadata": {},
     "source": [
      "Data Exploration"
     ]
    },
    {
     "cell_type": "heading",
     "level": 3,
     "metadata": {},
     "source": [
      "Data Frames"
     ]
    },
    {
     "cell_type": "markdown",
     "metadata": {},
     "source": [
      "The pandas module reads data into a \"Data Frame\", which is essentially a matrix where the columns are identified by names and the rows are identified by indices. "
     ]
    },
    {
     "cell_type": "heading",
     "level": 4,
     "metadata": {},
     "source": [
      "Columns"
     ]
    },
    {
     "cell_type": "markdown",
     "metadata": {},
     "source": [
      "Here we start by taking a look at the columns of the data frame to see how it is organized. This is a typical first step when we need to get familiar with the content of a new data file."
     ]
    },
    {
     "cell_type": "code",
     "collapsed": false,
     "input": [
      "df.columns"
     ],
     "language": "python",
     "metadata": {},
     "outputs": [
      {
       "metadata": {},
       "output_type": "pyout",
       "prompt_number": 6,
       "text": [
        "Index([u'County Name', u'County Code', u'Region Name', u'Indicator Number', u'Indicator', u'Total Event Counts', u'Denominator', u'Denominator Note', u'Measure Unit', u'Percentage/Rate', u'95% CI', u'Data Comments', u'Data Years', u'Data Sources', u'Quartile', u'Mapping Distribution', u'Location'], dtype='object')"
       ]
      }
     ],
     "prompt_number": 6
    },
    {
     "cell_type": "heading",
     "level": 4,
     "metadata": {},
     "source": [
      "Index - Row names"
     ]
    },
    {
     "cell_type": "markdown",
     "metadata": {},
     "source": [
      "We can also look at the names of the rows, also known as the \"index\". In this case, the index is a simple numerical ordering."
     ]
    },
    {
     "cell_type": "code",
     "collapsed": false,
     "input": [
      "df.index"
     ],
     "language": "python",
     "metadata": {},
     "outputs": [
      {
       "metadata": {},
       "output_type": "pyout",
       "prompt_number": 7,
       "text": [
        "Int64Index([0, 1, 2, 3, 4, 5, 6, 7, 8, 9, 10, 11, 12, 13, 14, 15, 16, 17, 18, 19, 20, 21, 22, 23, 24, 25, 26, 27, 28, 29, 30, 31, 32, 33, 34, 35, 36, 37, 38, 39, 40, 41, 42, 43, 44, 45, 46, 47, 48, 49, 50, 51, 52, 53, 54, 55, 56, 57, 58, 59, 60, 61, 62, 63, 64, 65, 66, 67, 68, 69, 70, 71, 72, 73, 74, 75, 76, 77, 78, 79, 80, 81, 82, 83, 84, 85, 86, 87, 88, 89, 90, 91, 92, 93, 94, 95, 96, 97, 98, 99, ...], dtype='int64')"
       ]
      }
     ]
    },
    {
     "cell_type": "heading",
     "level": 4,
     "metadata": {},
     "source": [
      "Pretty print"
     ]
    },
    {
     "cell_type": "markdown",
     "metadata": {},
     "source": [
      "The pandas module provide a default pretty-print functionality that is also very helpful to get a sense of the content of the data frame. It has however the drawback that for data frames with many rows or many columns, scrolling may be needed to get a full picture of the data set. We invoke the pretty print by simply typing the name of the data frame."
     ]
    },
    {
     "cell_type": "code",
     "collapsed": false,
     "input": [
      "df"
     ],
     "language": "python",
     "metadata": {},
     "outputs": []
    },
    {
     "cell_type": "heading",
     "level": 3,
     "metadata": {},
     "source": [
      "Extracting Columns"
     ]
    },
    {
     "cell_type": "markdown",
     "metadata": {},
     "source": [
      "It is common to find that not all columns of a data frame are relevant or interesting for our data analysis. Therefore it is desirable to extact the interesting columns out of the dataframe, in order to focus on them in the subsequent steps."
     ]
    },
    {
     "cell_type": "markdown",
     "metadata": {},
     "source": [
      "Column extraction is made by passing to the data frame a list of column names."
     ]
    },
    {
     "cell_type": "code",
     "collapsed": false,
     "input": [
      "selectedColumns = ['County Name', 'County Code', 'Indicator Number', 'Indicator', 'Percentage/Rate']\n",
      "df=df[selectedColumns]"
     ],
     "language": "python",
     "metadata": {},
     "outputs": []
    },
    {
     "cell_type": "heading",
     "level": 3,
     "metadata": {},
     "source": [
      "Showing selected rows"
     ]
    },
    {
     "cell_type": "markdown",
     "metadata": {},
     "source": [
      "The data frame head() function prints by default the first 5 records of the dataset.  It is a useful way to take a look at how the data is organized.\n"
     ]
    },
    {
     "cell_type": "code",
     "collapsed": false,
     "input": [
      "df.head()"
     ],
     "language": "python",
     "metadata": {},
     "outputs": []
    },
    {
     "cell_type": "markdown",
     "metadata": {},
     "source": [
      "The head function also takes as argument the number of desired rows to print"
     ]
    },
    {
     "cell_type": "code",
     "collapsed": false,
     "input": [
      "df.head(3)"
     ],
     "language": "python",
     "metadata": {},
     "outputs": []
    },
    {
     "cell_type": "heading",
     "level": 3,
     "metadata": {},
     "source": [
      "Exploring Ranges"
     ]
    },
    {
     "cell_type": "markdown",
     "metadata": {},
     "source": [
      "The pandas unique() function can be used to examine the unique values for a column. Let's illustrate this here, by first extracting a column (named 'Indicator') from the data frame, and then reducing the content of that column to the set of unique values.\n",
      "\n",
      "The unique() function returns an array, so we us it to create a Series object, and then take advantage of its pretty-print functionality"
     ]
    },
    {
     "cell_type": "code",
     "collapsed": false,
     "input": [
      "indicators=pd.Series(df['Indicator'].unique())\n",
      "indicators"
     ],
     "language": "python",
     "metadata": {},
     "outputs": []
    },
    {
     "cell_type": "markdown",
     "metadata": {},
     "source": [
      "Now that we have become familiar with the content of the data frame, we can proceed to generate plots of its values."
     ]
    },
    {
     "cell_type": "heading",
     "level": 2,
     "metadata": {},
     "source": [
      "Plotting"
     ]
    },
    {
     "cell_type": "markdown",
     "metadata": {},
     "source": [
      "We start our plotting exercise by selecting two specific health indicators. For them, we extract their rate of occurence for all the counties in the data set, and then we plot, per county, the rate of one indicator versus the other.\n",
      "\n",
      "This is what would typically be done to explore potential correlations between two health indicators"
     ]
    },
    {
     "cell_type": "heading",
     "level": 3,
     "metadata": {},
     "source": [
      "Data Selection"
     ]
    },
    {
     "cell_type": "markdown",
     "metadata": {},
     "source": [
      "From the list of unique health indicators, we choose two indicators of interest. We can do this by referring to them just by number."
     ]
    },
    {
     "cell_type": "code",
     "collapsed": false,
     "input": [
      "indicator1=indicators[0]\n",
      "indicator2=indicators[9]"
     ],
     "language": "python",
     "metadata": {},
     "outputs": []
    },
    {
     "cell_type": "markdown",
     "metadata": {},
     "source": [
      "We then print them out, as to verify which indicators we are plotting. "
     ]
    },
    {
     "cell_type": "code",
     "collapsed": false,
     "input": [
      "print \"1: \",indicator1\n",
      "print \"2: \",indicator2"
     ],
     "language": "python",
     "metadata": {},
     "outputs": []
    },
    {
     "cell_type": "heading",
     "level": 3,
     "metadata": {},
     "source": [
      "Data Extraction"
     ]
    },
    {
     "cell_type": "markdown",
     "metadata": {},
     "source": [
      "Using each one of these indicators, we can now filter the data frame to extract the rows for which that specific indicator is present. We do this by taking advantage of a natural indexing provided by the pandas module."
     ]
    },
    {
     "cell_type": "code",
     "collapsed": false,
     "input": [
      "data1=df[(df['Indicator']==indicator1)]\n",
      "data2=df[(df['Indicator']==indicator2)]"
     ],
     "language": "python",
     "metadata": {},
     "outputs": []
    },
    {
     "cell_type": "markdown",
     "metadata": {},
     "source": [
      "We are essentially asking the data frame to return the list of records for which the value in the 'Indicator' column matches the specific value of one of our health indicators."
     ]
    },
    {
     "cell_type": "markdown",
     "metadata": {},
     "source": [
      "This produces two data frames, each one containing the data for that specific health indicator.\n",
      "\n",
      "From them, we are particularly interested in the columns:\n",
      "\n",
      "- County Name\n",
      "- Percentage/Rate\n",
      "\n",
      "We want to explore, for every county, how the percentage of occurrence of one health indicator, matches the percentage of occurence of the other health indicator. Again, we are exploring potential correlations between two health indicators."
     ]
    },
    {
     "cell_type": "markdown",
     "metadata": {},
     "source": [
      "Since the data is coming from a colection of records in a database, we must first extract them and index them by county, so that when we grab data from one indicator, we can be sure that we are matching it to another indicator for the same county."
     ]
    },
    {
     "cell_type": "code",
     "collapsed": false,
     "input": [
      "data1_by_county = data1.set_index(data1['County Name'])\n",
      "data2_by_county = data2.set_index(data2['County Name'])"
     ],
     "language": "python",
     "metadata": {},
     "outputs": []
    },
    {
     "cell_type": "markdown",
     "metadata": {},
     "source": [
      "Now that the indices are common, we can extract the column of data as a Series, for both indicators"
     ]
    },
    {
     "cell_type": "code",
     "collapsed": false,
     "input": [
      "rate1 = data1_by_county['Percentage/Rate']\n",
      "rate2 = data2_by_county['Percentage/Rate']"
     ],
     "language": "python",
     "metadata": {},
     "outputs": []
    },
    {
     "cell_type": "markdown",
     "metadata": {},
     "source": [
      "Then we join both Series into a new Data Frame, and rename its columns to preserve the meaning of the health indicators"
     ]
    },
    {
     "cell_type": "code",
     "collapsed": false,
     "input": [
      "name1 = 'Cardiovascular'\n",
      "name2 = 'Diabetes'\n",
      "\n",
      "rates = pd.DataFrame([rate1,rate2],[name1,name2]).T"
     ],
     "language": "python",
     "metadata": {},
     "outputs": []
    },
    {
     "cell_type": "markdown",
     "metadata": {},
     "source": [
      "Real life data is messy. Here we can see that for some Counties we have missing data from one or both of the health indicators. We can drop those records from our analysis, using the dropna() function as follows"
     ]
    },
    {
     "cell_type": "code",
     "collapsed": false,
     "input": [
      "rates = rates.dropna()"
     ],
     "language": "python",
     "metadata": {},
     "outputs": []
    },
    {
     "cell_type": "markdown",
     "metadata": {},
     "source": [
      "And finally our data is organized in a consistent way, with two columns of data ready to be plot against each other in a scatter plot."
     ]
    },
    {
     "cell_type": "code",
     "collapsed": false,
     "input": [
      "rates"
     ],
     "language": "python",
     "metadata": {},
     "outputs": []
    },
    {
     "cell_type": "heading",
     "level": 3,
     "metadata": {},
     "source": [
      "Let's Plot"
     ]
    },
    {
     "cell_type": "markdown",
     "metadata": {},
     "source": [
      "From our prepared Data Frame, we now extract the respective columns as Series"
     ]
    },
    {
     "cell_type": "code",
     "collapsed": false,
     "input": [
      "rate1 = rates[name1]\n",
      "rate2 = rates[name2]"
     ],
     "language": "python",
     "metadata": {},
     "outputs": []
    },
    {
     "cell_type": "markdown",
     "metadata": {},
     "source": [
      "and pass them as arguments to the Matplotlib scatter function, that will generate the scatter plot"
     ]
    },
    {
     "cell_type": "code",
     "collapsed": false,
     "input": [
      "plt.scatter(rate1,rate2)"
     ],
     "language": "python",
     "metadata": {},
     "outputs": []
    },
    {
     "cell_type": "markdown",
     "metadata": {},
     "source": [
      "We can compare the values as well by using a bubble chart.  "
     ]
    },
    {
     "cell_type": "code",
     "collapsed": false,
     "input": [
      "array1=np.array(rate1.tolist())\n",
      "array1= array1[~np.isnan(array1)]\n",
      "min=array1.min()\n",
      "array_for_bubble=(array1-min+1)*10\n",
      "\n",
      "\n",
      "plt.scatter(rate1, rate2, s=array_for_bubble, marker='o', c=array_for_bubble)"
     ],
     "language": "python",
     "metadata": {},
     "outputs": []
    },
    {
     "cell_type": "code",
     "collapsed": false,
     "input": [],
     "language": "python",
     "metadata": {},
     "outputs": []
    }
   ],
   "metadata": {}
  }
 ]
}