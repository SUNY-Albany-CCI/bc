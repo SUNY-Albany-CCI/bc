{
 "metadata": {
  "name": "",
  "signature": "sha256:f2b6107db8a0bf9f9747aec2fc18bb8b00ad1232acffa70198b984bb14761f39"
 },
 "nbformat": 3,
 "nbformat_minor": 0,
 "worksheets": [
  {
   "cells": [
    {
     "cell_type": "code",
     "collapsed": false,
     "input": [
      "%matplotlib inline\n",
      "from matplotlib import pylab as plt\n",
      "import numpy as np\n",
      "import pandas as pd\n",
      "df = pd.read_csv(\"Hospital-Acquired_Infections__Beginning_2008.csv\")"
     ],
     "language": "python",
     "metadata": {},
     "outputs": [],
     "prompt_number": 82
    },
    {
     "cell_type": "code",
     "collapsed": false,
     "input": [
      "df.columns"
     ],
     "language": "python",
     "metadata": {},
     "outputs": [
      {
       "metadata": {},
       "output_type": "pyout",
       "prompt_number": 6,
       "text": [
        "Index([u'Facility Id', u'Hospital Name', u'Indicator Name', u'Year', u'Infections observed', u'Infections predicted', u'Denominator', u'Indicator value', u'Indicator Lower confidence limit', u'Indicator Upper confidence limit', u'Indicator units', u'Comparison results', u'Location 1'], dtype='object')"
       ]
      }
     ],
     "prompt_number": 6
    },
    {
     "cell_type": "code",
     "collapsed": false,
     "input": [
      "df.shape"
     ],
     "language": "python",
     "metadata": {},
     "outputs": [
      {
       "metadata": {},
       "output_type": "pyout",
       "prompt_number": 7,
       "text": [
        "(7614, 13)"
       ]
      }
     ],
     "prompt_number": 7
    },
    {
     "cell_type": "code",
     "collapsed": false,
     "input": [
      "df.head()"
     ],
     "language": "python",
     "metadata": {},
     "outputs": [
      {
       "html": [
        "<div style=\"max-height:1000px;max-width:1500px;overflow:auto;\">\n",
        "<table border=\"1\" class=\"dataframe\">\n",
        "  <thead>\n",
        "    <tr style=\"text-align: right;\">\n",
        "      <th></th>\n",
        "      <th>Facility Id</th>\n",
        "      <th>Hospital Name</th>\n",
        "      <th>Indicator Name</th>\n",
        "      <th>Year</th>\n",
        "      <th>Infections observed</th>\n",
        "      <th>Infections predicted</th>\n",
        "      <th>Denominator</th>\n",
        "      <th>Indicator value</th>\n",
        "      <th>Indicator Lower confidence limit</th>\n",
        "      <th>Indicator Upper confidence limit</th>\n",
        "      <th>Indicator units</th>\n",
        "      <th>Comparison results</th>\n",
        "      <th>Location 1</th>\n",
        "    </tr>\n",
        "  </thead>\n",
        "  <tbody>\n",
        "    <tr>\n",
        "      <th>0</th>\n",
        "      <td> 0</td>\n",
        "      <td> New York State - All Hospitals</td>\n",
        "      <td> SSI Overall Standardized Infection Ratio</td>\n",
        "      <td> 2012</td>\n",
        "      <td> 1618</td>\n",
        "      <td>NaN</td>\n",
        "      <td>      NaN</td>\n",
        "      <td> 1.00</td>\n",
        "      <td>NaN</td>\n",
        "      <td>NaN</td>\n",
        "      <td>                                               NaN</td>\n",
        "      <td> NaN</td>\n",
        "      <td> NaN</td>\n",
        "    </tr>\n",
        "    <tr>\n",
        "      <th>1</th>\n",
        "      <td> 0</td>\n",
        "      <td> New York State - All Hospitals</td>\n",
        "      <td>                       CDI Hospital Onset</td>\n",
        "      <td> 2012</td>\n",
        "      <td> 9904</td>\n",
        "      <td>NaN</td>\n",
        "      <td> 11948043</td>\n",
        "      <td> 8.29</td>\n",
        "      <td>NaN</td>\n",
        "      <td>NaN</td>\n",
        "      <td> # hospital onset cases per 10,000 patient days...</td>\n",
        "      <td> NaN</td>\n",
        "      <td> NaN</td>\n",
        "    </tr>\n",
        "    <tr>\n",
        "      <th>2</th>\n",
        "      <td> 0</td>\n",
        "      <td> New York State - All Hospitals</td>\n",
        "      <td>                CLABSI Cardiothoracic ICU</td>\n",
        "      <td> 2012</td>\n",
        "      <td>   67</td>\n",
        "      <td>NaN</td>\n",
        "      <td>    75757</td>\n",
        "      <td> 0.88</td>\n",
        "      <td>NaN</td>\n",
        "      <td>NaN</td>\n",
        "      <td>                       # CLABSI per 1000 line days</td>\n",
        "      <td> NaN</td>\n",
        "      <td> NaN</td>\n",
        "    </tr>\n",
        "    <tr>\n",
        "      <th>3</th>\n",
        "      <td> 0</td>\n",
        "      <td> New York State - All Hospitals</td>\n",
        "      <td>                      CLABSI Coronary ICU</td>\n",
        "      <td> 2012</td>\n",
        "      <td>   60</td>\n",
        "      <td>NaN</td>\n",
        "      <td>    48540</td>\n",
        "      <td> 1.24</td>\n",
        "      <td>NaN</td>\n",
        "      <td>NaN</td>\n",
        "      <td>                       # CLABSI per 1000 line days</td>\n",
        "      <td> NaN</td>\n",
        "      <td> NaN</td>\n",
        "    </tr>\n",
        "    <tr>\n",
        "      <th>4</th>\n",
        "      <td> 0</td>\n",
        "      <td> New York State - All Hospitals</td>\n",
        "      <td>                       CLABSI Medical ICU</td>\n",
        "      <td> 2012</td>\n",
        "      <td>  130</td>\n",
        "      <td>NaN</td>\n",
        "      <td>   107618</td>\n",
        "      <td> 1.21</td>\n",
        "      <td>NaN</td>\n",
        "      <td>NaN</td>\n",
        "      <td>                       # CLABSI per 1000 line days</td>\n",
        "      <td> NaN</td>\n",
        "      <td> NaN</td>\n",
        "    </tr>\n",
        "  </tbody>\n",
        "</table>\n",
        "</div>"
       ],
       "metadata": {},
       "output_type": "pyout",
       "prompt_number": 8,
       "text": [
        "   Facility Id                   Hospital Name  \\\n",
        "0            0  New York State - All Hospitals   \n",
        "1            0  New York State - All Hospitals   \n",
        "2            0  New York State - All Hospitals   \n",
        "3            0  New York State - All Hospitals   \n",
        "4            0  New York State - All Hospitals   \n",
        "\n",
        "                             Indicator Name  Year  Infections observed  \\\n",
        "0  SSI Overall Standardized Infection Ratio  2012                 1618   \n",
        "1                        CDI Hospital Onset  2012                 9904   \n",
        "2                 CLABSI Cardiothoracic ICU  2012                   67   \n",
        "3                       CLABSI Coronary ICU  2012                   60   \n",
        "4                        CLABSI Medical ICU  2012                  130   \n",
        "\n",
        "   Infections predicted  Denominator  Indicator value  \\\n",
        "0                   NaN          NaN             1.00   \n",
        "1                   NaN     11948043             8.29   \n",
        "2                   NaN        75757             0.88   \n",
        "3                   NaN        48540             1.24   \n",
        "4                   NaN       107618             1.21   \n",
        "\n",
        "   Indicator Lower confidence limit  Indicator Upper confidence limit  \\\n",
        "0                               NaN                               NaN   \n",
        "1                               NaN                               NaN   \n",
        "2                               NaN                               NaN   \n",
        "3                               NaN                               NaN   \n",
        "4                               NaN                               NaN   \n",
        "\n",
        "                                     Indicator units Comparison results  \\\n",
        "0                                                NaN                NaN   \n",
        "1  # hospital onset cases per 10,000 patient days...                NaN   \n",
        "2                        # CLABSI per 1000 line days                NaN   \n",
        "3                        # CLABSI per 1000 line days                NaN   \n",
        "4                        # CLABSI per 1000 line days                NaN   \n",
        "\n",
        "  Location 1  \n",
        "0        NaN  \n",
        "1        NaN  \n",
        "2        NaN  \n",
        "3        NaN  \n",
        "4        NaN  "
       ]
      }
     ],
     "prompt_number": 8
    },
    {
     "cell_type": "code",
     "collapsed": false,
     "input": [
      "df_bhcdc=df[(df['Facility Id']==1288)]"
     ],
     "language": "python",
     "metadata": {},
     "outputs": [],
     "prompt_number": 36
    },
    {
     "cell_type": "code",
     "collapsed": false,
     "input": [
      "df_amc=df[(df['Facility Id']==1)]"
     ],
     "language": "python",
     "metadata": {},
     "outputs": [],
     "prompt_number": 47
    },
    {
     "cell_type": "code",
     "collapsed": false,
     "input": [
      "df_amc[df_amc['Year']==2012][df_amc['Indicator Name']=='SSI Hysterectomy']['Infections observed']"
     ],
     "language": "python",
     "metadata": {},
     "outputs": [
      {
       "metadata": {},
       "output_type": "pyout",
       "prompt_number": 46,
       "text": [
        "89    2\n",
        "Name: Infections observed, dtype: float64"
       ]
      }
     ],
     "prompt_number": 46
    },
    {
     "cell_type": "code",
     "collapsed": false,
     "input": [
      "df_amc_infections=df_amc[df_amc['Indicator Name']=='CDI Hospital Associated']"
     ],
     "language": "python",
     "metadata": {},
     "outputs": [],
     "prompt_number": 52
    },
    {
     "cell_type": "code",
     "collapsed": false,
     "input": [
      "df_bhcdc_infections=df_bhcdc[df_bhcdc['Indicator Name']=='CDI Hospital Associated']"
     ],
     "language": "python",
     "metadata": {},
     "outputs": [],
     "prompt_number": 56
    },
    {
     "cell_type": "code",
     "collapsed": false,
     "input": [
      "array1=np.array(df_amc_infections['Infections observed'].tolist())\n",
      "array2=np.array(df_bhcdc_infections['Infections observed'].tolist())"
     ],
     "language": "python",
     "metadata": {},
     "outputs": [],
     "prompt_number": 84
    },
    {
     "cell_type": "code",
     "collapsed": false,
     "input": [
      "p1=plt.bar([1,2,3], df_amc_infections['Infections observed'], 1, color='r')\n",
      "p2=plt.bar([1,2,3], df_bhcdc_infections['Infections observed'], 1, color='b', bottom=df_amc_infections['Infections observed'])\n",
      "\n",
      "plt.ylabel('infections')\n",
      "plt.title('hospital infections')\n",
      "plt.xticks([1.5,2.5,3.5],('2010', '2011', '2012') )\n",
      "#plt.yticks(np.arange(0,81,10))\n",
      "plt.legend( (p1[0], p2[0]), ('Albany', 'Brooklyn') )\n"
     ],
     "language": "python",
     "metadata": {},
     "outputs": [
      {
       "metadata": {},
       "output_type": "pyout",
       "prompt_number": 85,
       "text": [
        "<matplotlib.legend.Legend at 0x4597310>"
       ]
      },
      {
       "metadata": {},
       "output_type": "display_data",
       "png": "[encoded data removed]",
       "text": [
        "<matplotlib.figure.Figure at 0x4114a90>"
       ]
      }
     ],
     "prompt_number": 85
    },
    {
     "cell_type": "code",
     "collapsed": false,
     "input": [
      "array1_normal=array1/(array1+array2)\n",
      "array2_normal=array2/(array1+array2)\n"
     ],
     "language": "python",
     "metadata": {},
     "outputs": [],
     "prompt_number": 87
    },
    {
     "cell_type": "code",
     "collapsed": false,
     "input": [
      "p1=plt.bar([1,2,3], array1_normal, 1, color='r')\n",
      "p2=plt.bar([1,2,3], array2_normal, 1, color='b', bottom=array1_normal)\n",
      "\n",
      "plt.ylabel('infections')\n",
      "plt.title('hospital infections')\n",
      "plt.xticks([1.5,2.5,3.5],('2010', '2011', '2012') )\n",
      "#plt.yticks(np.arange(0,81,10))\n",
      "plt.legend( (p1[0], p2[0]), ('Albany', 'Brooklyn') )"
     ],
     "language": "python",
     "metadata": {},
     "outputs": [
      {
       "metadata": {},
       "output_type": "pyout",
       "prompt_number": 91,
       "text": [
        "<matplotlib.legend.Legend at 0x47b0ad0>"
       ]
      },
      {
       "metadata": {},
       "output_type": "display_data",
       "png": "[encoded data removed]",
       "text": [
        "<matplotlib.figure.Figure at 0x47b0bd0>"
       ]
      }
     ],
     "prompt_number": 91
    },
    {
     "cell_type": "code",
     "collapsed": false,
     "input": [],
     "language": "python",
     "metadata": {},
     "outputs": []
    }
   ],
   "metadata": {}
  }
 ]
}